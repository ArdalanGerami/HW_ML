{
  "cells": [
    {
      "cell_type": "markdown",
      "metadata": {
        "id": "view-in-github",
        "colab_type": "text"
      },
      "source": [
        "<a href=\"https://colab.research.google.com/github/Ardalan-gerami81/HW_ML/blob/main/HW_NN_Q1.ipynb\" target=\"_parent\"><img src=\"https://colab.research.google.com/assets/colab-badge.svg\" alt=\"Open In Colab\"/></a>"
      ]
    },
    {
      "cell_type": "markdown",
      "id": "1b46fe41",
      "metadata": {
        "id": "1b46fe41"
      },
      "source": [
        "<div align=center>\n",
        "\n",
        "<font size=5>\n",
        "    In the Name of God\n",
        "<font/>\n",
        "<br/>\n",
        "<br/>\n",
        "<font>\n",
        "    Sharif University of Technology - Departmenet of Electrical Engineering\n",
        "</font>\n",
        "<br/>\n",
        "<font>\n",
        "    Introducing with Machine Learing - Dr. S. Amini\n",
        "</font>\n",
        "<br/>\n",
        "<br/>\n",
        "Spring 2023\n",
        "\n",
        "</div>\n",
        "\n",
        "<hr/>\n",
        "<div align=center>\n",
        "<font size=6>\n",
        "    Neural Networks Practical Assignment\n",
        "    \n",
        "    Question 1\n",
        "</font>\n",
        "<br/>\n",
        "<font size=4>\n",
        "<br/>\n",
        "</div>"
      ]
    },
    {
      "cell_type": "markdown",
      "id": "24a0fc13",
      "metadata": {
        "id": "24a0fc13"
      },
      "source": [
        "# Personal Data"
      ]
    },
    {
      "cell_type": "code",
      "execution_count": 4,
      "id": "44babb65",
      "metadata": {
        "id": "44babb65"
      },
      "outputs": [],
      "source": [
        "# Set your student number\n",
        "student_number = 99102112\n",
        "Name = 'Ardalan'\n",
        "Last_Name = 'Gerami'"
      ]
    },
    {
      "cell_type": "markdown",
      "id": "ca4a337a",
      "metadata": {
        "id": "ca4a337a"
      },
      "source": [
        "# Rules\n",
        "- You are not allowed to add or remove cells. You **must use the provided space to write your code**. If you don't follow this rule, **your Practical Assignment won't be graded**.  \n",
        "\n",
        "- Collaboration and using the internet is allowed, but your code **must be written by yourself**. **Copying code** from each other or from available resources will result in a **zero score for the assignment**.\n",
        "\n",
        "- You are not allowed to use `torch.nn`, `torch.optim` and any activation function and loss function implemented in torch."
      ]
    },
    {
      "cell_type": "code",
      "execution_count": 5,
      "id": "12b76789",
      "metadata": {
        "id": "12b76789",
        "colab": {
          "base_uri": "https://localhost:8080/"
        },
        "outputId": "ed201989-81fa-4325-d674-2dfe611286f4"
      },
      "outputs": [
        {
          "output_type": "stream",
          "name": "stdout",
          "text": [
            "Requirement already satisfied: numpy in /usr/local/lib/python3.10/dist-packages (1.22.4)\n",
            "Requirement already satisfied: matplotlib in /usr/local/lib/python3.10/dist-packages (3.7.1)\n",
            "Requirement already satisfied: contourpy>=1.0.1 in /usr/local/lib/python3.10/dist-packages (from matplotlib) (1.1.0)\n",
            "Requirement already satisfied: cycler>=0.10 in /usr/local/lib/python3.10/dist-packages (from matplotlib) (0.11.0)\n",
            "Requirement already satisfied: fonttools>=4.22.0 in /usr/local/lib/python3.10/dist-packages (from matplotlib) (4.40.0)\n",
            "Requirement already satisfied: kiwisolver>=1.0.1 in /usr/local/lib/python3.10/dist-packages (from matplotlib) (1.4.4)\n",
            "Requirement already satisfied: numpy>=1.20 in /usr/local/lib/python3.10/dist-packages (from matplotlib) (1.22.4)\n",
            "Requirement already satisfied: packaging>=20.0 in /usr/local/lib/python3.10/dist-packages (from matplotlib) (23.1)\n",
            "Requirement already satisfied: pillow>=6.2.0 in /usr/local/lib/python3.10/dist-packages (from matplotlib) (8.4.0)\n",
            "Requirement already satisfied: pyparsing>=2.3.1 in /usr/local/lib/python3.10/dist-packages (from matplotlib) (3.1.0)\n",
            "Requirement already satisfied: python-dateutil>=2.7 in /usr/local/lib/python3.10/dist-packages (from matplotlib) (2.8.2)\n",
            "Requirement already satisfied: six>=1.5 in /usr/local/lib/python3.10/dist-packages (from python-dateutil>=2.7->matplotlib) (1.16.0)\n",
            "Requirement already satisfied: torchvision in /usr/local/lib/python3.10/dist-packages (0.15.2+cu118)\n",
            "Requirement already satisfied: numpy in /usr/local/lib/python3.10/dist-packages (from torchvision) (1.22.4)\n",
            "Requirement already satisfied: requests in /usr/local/lib/python3.10/dist-packages (from torchvision) (2.27.1)\n",
            "Requirement already satisfied: torch==2.0.1 in /usr/local/lib/python3.10/dist-packages (from torchvision) (2.0.1+cu118)\n",
            "Requirement already satisfied: pillow!=8.3.*,>=5.3.0 in /usr/local/lib/python3.10/dist-packages (from torchvision) (8.4.0)\n",
            "Requirement already satisfied: filelock in /usr/local/lib/python3.10/dist-packages (from torch==2.0.1->torchvision) (3.12.2)\n",
            "Requirement already satisfied: typing-extensions in /usr/local/lib/python3.10/dist-packages (from torch==2.0.1->torchvision) (4.6.3)\n",
            "Requirement already satisfied: sympy in /usr/local/lib/python3.10/dist-packages (from torch==2.0.1->torchvision) (1.11.1)\n",
            "Requirement already satisfied: networkx in /usr/local/lib/python3.10/dist-packages (from torch==2.0.1->torchvision) (3.1)\n",
            "Requirement already satisfied: jinja2 in /usr/local/lib/python3.10/dist-packages (from torch==2.0.1->torchvision) (3.1.2)\n",
            "Requirement already satisfied: triton==2.0.0 in /usr/local/lib/python3.10/dist-packages (from torch==2.0.1->torchvision) (2.0.0)\n",
            "Requirement already satisfied: cmake in /usr/local/lib/python3.10/dist-packages (from triton==2.0.0->torch==2.0.1->torchvision) (3.25.2)\n",
            "Requirement already satisfied: lit in /usr/local/lib/python3.10/dist-packages (from triton==2.0.0->torch==2.0.1->torchvision) (16.0.6)\n",
            "Requirement already satisfied: urllib3<1.27,>=1.21.1 in /usr/local/lib/python3.10/dist-packages (from requests->torchvision) (1.26.16)\n",
            "Requirement already satisfied: certifi>=2017.4.17 in /usr/local/lib/python3.10/dist-packages (from requests->torchvision) (2023.5.7)\n",
            "Requirement already satisfied: charset-normalizer~=2.0.0 in /usr/local/lib/python3.10/dist-packages (from requests->torchvision) (2.0.12)\n",
            "Requirement already satisfied: idna<4,>=2.5 in /usr/local/lib/python3.10/dist-packages (from requests->torchvision) (3.4)\n",
            "Requirement already satisfied: MarkupSafe>=2.0 in /usr/local/lib/python3.10/dist-packages (from jinja2->torch==2.0.1->torchvision) (2.1.3)\n",
            "Requirement already satisfied: mpmath>=0.19 in /usr/local/lib/python3.10/dist-packages (from sympy->torch==2.0.1->torchvision) (1.3.0)\n",
            "Requirement already satisfied: torch in /usr/local/lib/python3.10/dist-packages (2.0.1+cu118)\n",
            "Requirement already satisfied: filelock in /usr/local/lib/python3.10/dist-packages (from torch) (3.12.2)\n",
            "Requirement already satisfied: typing-extensions in /usr/local/lib/python3.10/dist-packages (from torch) (4.6.3)\n",
            "Requirement already satisfied: sympy in /usr/local/lib/python3.10/dist-packages (from torch) (1.11.1)\n",
            "Requirement already satisfied: networkx in /usr/local/lib/python3.10/dist-packages (from torch) (3.1)\n",
            "Requirement already satisfied: jinja2 in /usr/local/lib/python3.10/dist-packages (from torch) (3.1.2)\n",
            "Requirement already satisfied: triton==2.0.0 in /usr/local/lib/python3.10/dist-packages (from torch) (2.0.0)\n",
            "Requirement already satisfied: cmake in /usr/local/lib/python3.10/dist-packages (from triton==2.0.0->torch) (3.25.2)\n",
            "Requirement already satisfied: lit in /usr/local/lib/python3.10/dist-packages (from triton==2.0.0->torch) (16.0.6)\n",
            "Requirement already satisfied: MarkupSafe>=2.0 in /usr/local/lib/python3.10/dist-packages (from jinja2->torch) (2.1.3)\n",
            "Requirement already satisfied: mpmath>=0.19 in /usr/local/lib/python3.10/dist-packages (from sympy->torch) (1.3.0)\n"
          ]
        }
      ],
      "source": [
        "!pip install numpy\n",
        "!pip install matplotlib\n",
        "!pip install torchvision\n",
        "!pip install torch"
      ]
    },
    {
      "cell_type": "markdown",
      "id": "886188c7",
      "metadata": {
        "id": "886188c7"
      },
      "source": [
        "## Importing Libraries"
      ]
    },
    {
      "cell_type": "code",
      "execution_count": 6,
      "id": "55a0adcc",
      "metadata": {
        "id": "55a0adcc"
      },
      "outputs": [],
      "source": [
        "import torch\n",
        "from torchvision.datasets import FashionMNIST\n",
        "from torchvision import transforms\n",
        "from torch.utils.data import DataLoader\n",
        "import numpy as np\n",
        "from matplotlib import pyplot as plt\n",
        "from typing import Dict\n",
        "import random as rn"
      ]
    },
    {
      "cell_type": "markdown",
      "id": "18510868",
      "metadata": {
        "id": "18510868"
      },
      "source": [
        "## Datasets and Dataloaders\n",
        "\n",
        "Here, we download and load the train and test `FashionMNIST` dataset with the desired transforms. Then, we define the dataloaders for `train` and `test`."
      ]
    },
    {
      "cell_type": "code",
      "execution_count": 7,
      "id": "dc8759e2",
      "metadata": {
        "id": "dc8759e2",
        "colab": {
          "base_uri": "https://localhost:8080/"
        },
        "outputId": "20e7c951-9bb3-44ad-a880-58a6da4afdeb"
      },
      "outputs": [
        {
          "output_type": "stream",
          "name": "stdout",
          "text": [
            "Downloading http://fashion-mnist.s3-website.eu-central-1.amazonaws.com/train-images-idx3-ubyte.gz\n",
            "Downloading http://fashion-mnist.s3-website.eu-central-1.amazonaws.com/train-images-idx3-ubyte.gz to ./FashionMNIST/raw/train-images-idx3-ubyte.gz\n"
          ]
        },
        {
          "output_type": "stream",
          "name": "stderr",
          "text": [
            "100%|██████████| 26421880/26421880 [00:01<00:00, 15668370.43it/s]\n"
          ]
        },
        {
          "output_type": "stream",
          "name": "stdout",
          "text": [
            "Extracting ./FashionMNIST/raw/train-images-idx3-ubyte.gz to ./FashionMNIST/raw\n",
            "\n",
            "Downloading http://fashion-mnist.s3-website.eu-central-1.amazonaws.com/train-labels-idx1-ubyte.gz\n",
            "Downloading http://fashion-mnist.s3-website.eu-central-1.amazonaws.com/train-labels-idx1-ubyte.gz to ./FashionMNIST/raw/train-labels-idx1-ubyte.gz\n"
          ]
        },
        {
          "output_type": "stream",
          "name": "stderr",
          "text": [
            "100%|██████████| 29515/29515 [00:00<00:00, 272618.91it/s]\n"
          ]
        },
        {
          "output_type": "stream",
          "name": "stdout",
          "text": [
            "Extracting ./FashionMNIST/raw/train-labels-idx1-ubyte.gz to ./FashionMNIST/raw\n",
            "\n",
            "Downloading http://fashion-mnist.s3-website.eu-central-1.amazonaws.com/t10k-images-idx3-ubyte.gz\n",
            "Downloading http://fashion-mnist.s3-website.eu-central-1.amazonaws.com/t10k-images-idx3-ubyte.gz to ./FashionMNIST/raw/t10k-images-idx3-ubyte.gz\n"
          ]
        },
        {
          "output_type": "stream",
          "name": "stderr",
          "text": [
            "100%|██████████| 4422102/4422102 [00:00<00:00, 4968625.40it/s]\n"
          ]
        },
        {
          "output_type": "stream",
          "name": "stdout",
          "text": [
            "Extracting ./FashionMNIST/raw/t10k-images-idx3-ubyte.gz to ./FashionMNIST/raw\n",
            "\n",
            "Downloading http://fashion-mnist.s3-website.eu-central-1.amazonaws.com/t10k-labels-idx1-ubyte.gz\n",
            "Downloading http://fashion-mnist.s3-website.eu-central-1.amazonaws.com/t10k-labels-idx1-ubyte.gz to ./FashionMNIST/raw/t10k-labels-idx1-ubyte.gz\n"
          ]
        },
        {
          "output_type": "stream",
          "name": "stderr",
          "text": [
            "100%|██████████| 5148/5148 [00:00<00:00, 23317793.73it/s]"
          ]
        },
        {
          "output_type": "stream",
          "name": "stdout",
          "text": [
            "Extracting ./FashionMNIST/raw/t10k-labels-idx1-ubyte.gz to ./FashionMNIST/raw\n",
            "\n"
          ]
        },
        {
          "output_type": "stream",
          "name": "stderr",
          "text": [
            "\n"
          ]
        }
      ],
      "source": [
        "train_set = FashionMNIST(root='.', train=True, download=True, transform=transforms.ToTensor())\n",
        "test_set = FashionMNIST(root='.', train=False, download=True, transform=transforms.ToTensor())"
      ]
    },
    {
      "cell_type": "code",
      "execution_count": 8,
      "id": "8f6763e6",
      "metadata": {
        "id": "8f6763e6",
        "colab": {
          "base_uri": "https://localhost:8080/"
        },
        "outputId": "7b8fde84-1a1d-4b27-aa44-e49444d5b109"
      },
      "outputs": [
        {
          "output_type": "stream",
          "name": "stdout",
          "text": [
            "['T-shirt/top', 'Trouser', 'Pullover', 'Dress', 'Coat', 'Sandal', 'Shirt', 'Sneaker', 'Bag', 'Ankle boot']\n"
          ]
        }
      ],
      "source": [
        "image_shape = train_set[0][0].shape\n",
        "input_dim = np.prod(image_shape).item()\n",
        "num_classes = len(FashionMNIST.classes)\n",
        "print(FashionMNIST.classes)"
      ]
    },
    {
      "cell_type": "code",
      "execution_count": 9,
      "id": "c695ff60",
      "metadata": {
        "id": "c695ff60"
      },
      "outputs": [],
      "source": [
        "train_loader = DataLoader(train_set, 64, shuffle=True)\n",
        "test_loader = DataLoader(test_set, 64, shuffle=True)"
      ]
    },
    {
      "cell_type": "markdown",
      "id": "f9dac6c2",
      "metadata": {
        "id": "f9dac6c2"
      },
      "source": [
        "## Visualization\n",
        "\n",
        "Visualize 1 random image from each class\n",
        "\n",
        "- **Hint**:  You can use `plt.subplots` for visualization"
      ]
    },
    {
      "cell_type": "code",
      "execution_count": 10,
      "id": "e3d6b0c1",
      "metadata": {
        "colab": {
          "base_uri": "https://localhost:8080/",
          "height": 570
        },
        "id": "e3d6b0c1",
        "outputId": "f7bf5531-7de5-4445-aef7-27f99182e28a"
      },
      "outputs": [
        {
          "output_type": "stream",
          "name": "stdout",
          "text": [
            "torch.Size([28, 28])\n",
            "torch.Size([28, 28])\n",
            "torch.Size([28, 28])\n",
            "torch.Size([28, 28])\n",
            "torch.Size([28, 28])\n",
            "torch.Size([28, 28])\n",
            "torch.Size([28, 28])\n",
            "torch.Size([28, 28])\n",
            "torch.Size([28, 28])\n",
            "torch.Size([28, 28])\n"
          ]
        },
        {
          "output_type": "display_data",
          "data": {
            "text/plain": [
              "<Figure size 800x400 with 10 Axes>"
            ],
            "image/png": "[encoded data removed]"
          },
          "metadata": {}
        }
      ],
      "source": [
        "## FILL HERE\n",
        "labels_map = {0: 'T-shirt/top', 1: 'Trouser', 2: 'Pullover', 3: 'Dress', 4: 'Coat',\n",
        "              5: 'Sandal', 6: 'Shirt', 7: 'Sneaker', 8: 'Bag', 9: 'Ankle Boot'}\n",
        "fig = plt.figure(figsize=(8, 4))\n",
        "i = 0\n",
        "img = [[0 for i in range(2)] for j in range(60000)]\n",
        "imagew = [[0 for i in range(2)] for j in range(1)]\n",
        "for images,label in train_set:\n",
        "    img[i][0] = label\n",
        "    img[i][1] = images.squeeze()\n",
        "    i += 1\n",
        "img1 = sorted(img,key=lambda img:img[0], reverse=False)\n",
        "for i in range(10):\n",
        "  a = rn.randint(6000*i,6000*(i+1))\n",
        "  labelw = labels_map[img1[a][0]]\n",
        "  fig.add_subplot(2, 5,i+1)\n",
        "  plt.title(labelw)\n",
        "  print(img1[a][1].size())\n",
        "  plt.imshow(img1[a][1].reshape([28, 28]),cmap = 'gray')\n",
        "  plt.axis('off')\n",
        "plt.tight_layout()\n",
        "plt.show()"
      ]
    },
    {
      "cell_type": "markdown",
      "id": "a94c5aba",
      "metadata": {
        "id": "a94c5aba"
      },
      "source": [
        "## Initializing model's parameters\n",
        "\n",
        "In this part, we create the model and initialize its parameters and store the values of these parameters in the variable `parameters` which is a dictionary including the weigths and biases of each layer."
      ]
    },
    {
      "cell_type": "code",
      "execution_count": 11,
      "id": "e6d40952",
      "metadata": {
        "id": "e6d40952"
      },
      "outputs": [],
      "source": [
        "def add_linear_layer(parameters: dict, shape, device, i=None):\n",
        "    \"\"\"\n",
        "    This function adds parameters of a linear unit of shape `shape` to the `parameters` dictionary.\n",
        "    \"\"\"\n",
        "    n_in, n_out = shape\n",
        "    with torch.no_grad():\n",
        "        w = torch.zeros(*shape, device=device)\n",
        "        # kaiming initialization for ReLU activations:\n",
        "        bound = 1 / np.sqrt(n_in).item()\n",
        "        w.uniform_(-bound, bound)\n",
        "        b = torch.zeros(n_out, device=device)  # no need to (1, n_out). it will broadcast itself.\n",
        "    w.requires_grad = True\n",
        "    b.requires_grad = True\n",
        "    # `i` is used to give numbers to parameter names\n",
        "    parameters.update({f'w{i}': w, f'b{i}': b})"
      ]
    },
    {
      "cell_type": "markdown",
      "id": "ce914706",
      "metadata": {
        "id": "ce914706"
      },
      "source": [
        "Now we define our neural network with the given layers and add the weights and biases to the dictionary `parameters`. **You are allowed to modify the values of the layers**."
      ]
    },
    {
      "cell_type": "code",
      "execution_count": 12,
      "id": "8f3867d7",
      "metadata": {
        "id": "8f3867d7",
        "colab": {
          "base_uri": "https://localhost:8080/"
        },
        "outputId": "06a2d438-a7fd-4ab8-8f7f-4474a4ee978f"
      },
      "outputs": [
        {
          "output_type": "execute_result",
          "data": {
            "text/plain": [
              "dict_keys(['w0', 'b0', 'w1', 'b1', 'w2', 'b2', 'w3', 'b3', 'w4', 'b4'])"
            ]
          },
          "metadata": {},
          "execution_count": 12
        }
      ],
      "source": [
        "layers = [\n",
        "    (input_dim, 512),\n",
        "    (512, 256),\n",
        "    (256, 128),\n",
        "    (128, 64),\n",
        "    (64, num_classes)\n",
        "]\n",
        "num_layers = len(layers)\n",
        "parameters = {}\n",
        "\n",
        "# setting the device\n",
        "device = torch.device(\"cuda:0\" if torch.cuda.is_available() else \"cpu\")\n",
        "\n",
        "# adding the parameters to the dictionary\n",
        "for i, shape in enumerate(layers):\n",
        "    add_linear_layer(parameters, shape, device, i)\n",
        "\n",
        "parameters.keys()"
      ]
    },
    {
      "cell_type": "markdown",
      "id": "8bfd2c8e",
      "metadata": {
        "id": "8bfd2c8e"
      },
      "source": [
        "## Defining the required functions\n",
        "\n",
        "In this section, we should define the required functions. For each of these functions, the inputs and the desired outputs are given and you should write all or part of the function. **You are not allowed to use the activation functions and the loss functions implemented in torch**."
      ]
    },
    {
      "cell_type": "markdown",
      "id": "f3b413d8",
      "metadata": {
        "id": "f3b413d8"
      },
      "source": [
        "Computing affine and relu outputs:"
      ]
    },
    {
      "cell_type": "code",
      "execution_count": 13,
      "id": "bebeeb0e",
      "metadata": {
        "id": "bebeeb0e"
      },
      "outputs": [],
      "source": [
        "def affine_forward(x, w, b):\n",
        "  ## FILL HERE\n",
        "  NN = x.shape[0]\n",
        "  x_reshaped = x.view(NN, -1)\n",
        "  out = x_reshaped.mm(w) + b\n",
        "  return out\n",
        "\n",
        "def relu(x):\n",
        "  ## FILL HERE\n",
        "  ReLU = torch.max(x, torch.zeros_like(x))\n",
        "  return ReLU\n"
      ]
    },
    {
      "cell_type": "markdown",
      "id": "5d9baa5e",
      "metadata": {
        "id": "5d9baa5e"
      },
      "source": [
        "Function `model` returns output of the whole model for the input `x` using the parameters:"
      ]
    },
    {
      "cell_type": "code",
      "execution_count": 14,
      "id": "d2562962",
      "metadata": {
        "id": "d2562962"
      },
      "outputs": [],
      "source": [
        "def model(x: torch.Tensor, parameters, num_layers=num_layers):\n",
        "    # number of batches\n",
        "    B = x.shape[0]\n",
        "    x = x.view(B, -1)\n",
        "\n",
        "    ## FILL HERE\n",
        "    for i in range(num_layers):\n",
        "      w = parameters[f'w{i}']\n",
        "      b = parameters[f'b{i}']\n",
        "      x = affine_forward(x,w,b)\n",
        "      if i < num_layers-1:\n",
        "        x = relu(x)\n",
        "    output = x\n",
        "    return output"
      ]
    },
    {
      "cell_type": "markdown",
      "id": "d17a9b4c",
      "metadata": {
        "id": "d17a9b4c"
      },
      "source": [
        "Implementing cross entropy loss:"
      ]
    },
    {
      "cell_type": "code",
      "execution_count": 15,
      "id": "6959621c",
      "metadata": {
        "id": "6959621c"
      },
      "outputs": [],
      "source": [
        "def cross_entropy_loss(scores, y):\n",
        "    n = len(y)\n",
        "    ## FILL HERE\n",
        "    exp_scores = torch.exp(scores)\n",
        "    probs = exp_scores / torch.sum(exp_scores, dim=1, keepdim=True)\n",
        "    loss = torch.sum(-torch.log(probs[range(n), y]) / n)\n",
        "    return loss"
      ]
    },
    {
      "cell_type": "markdown",
      "id": "15a589af",
      "metadata": {
        "id": "15a589af"
      },
      "source": [
        "Implementing a function for optimizing paramters and a function to zeroing out their gradients:"
      ]
    },
    {
      "cell_type": "code",
      "execution_count": 16,
      "id": "3121c147",
      "metadata": {
        "id": "3121c147"
      },
      "outputs": [],
      "source": [
        "def sgd_optimizer(parameters: Dict[str, torch.Tensor], learning_rate=0.001):\n",
        "    '''This function gets the parameters and a learning rate. Then updates the parameters using their\n",
        "    gradient (parameter.grad). Finally, you should zero the gradients of the parameters after updating\n",
        "    the parameter value.'''\n",
        "    ## FILL HERE\n",
        "    with torch.no_grad():\n",
        "        for param in parameters.values():\n",
        "          param -= learning_rate * param.grad\n",
        "          param.grad.zero_()"
      ]
    },
    {
      "cell_type": "markdown",
      "source": [],
      "metadata": {
        "id": "lBwiWiXxV323"
      },
      "id": "lBwiWiXxV323"
    },
    {
      "cell_type": "markdown",
      "id": "e17b4cf8",
      "metadata": {
        "id": "e17b4cf8"
      },
      "source": [
        "Training functions:"
      ]
    },
    {
      "cell_type": "code",
      "execution_count": 17,
      "id": "76c0f03b",
      "metadata": {
        "id": "76c0f03b"
      },
      "outputs": [],
      "source": [
        "def accuracy(y_pred: np.ndarray, y_true: np.ndarray):\n",
        "    ## FILL HERE\n",
        "    return (y_pred == y_true).mean()\n",
        "\n",
        "def train(train_loader, learning_rate=0.001, epoch=None):\n",
        "    '''This function implements the training loop for a single epoch. For each batch you should do the following:\n",
        "        1- Calculate the output of the model to the given input batch\n",
        "        2- Calculate the loss based on the model output\n",
        "        3- Update the gradients using loss.backward() method\n",
        "        4- Optimize the model parameters using the sgd_optimizer function defined previously\n",
        "        5- Print the train loss (Show the epoch and batch as well)\n",
        "        '''\n",
        "    train_loss = 0\n",
        "    N_train = len(train_loader.dataset)\n",
        "\n",
        "    # Creating empty lists Y and Y_pred to store the labels and predictions of each batch\n",
        "    # for calculateing the accuracy later\n",
        "    Y = []\n",
        "    Y_pred = []\n",
        "\n",
        "\n",
        "    for i, (x, y) in enumerate(train_loader):\n",
        "        x = x.to(device)\n",
        "        y = y.to(device)\n",
        "        p = model(x, parameters)\n",
        "\n",
        "        loss = cross_entropy_loss(p, y)\n",
        "        loss.backward()\n",
        "        sgd_optimizer(parameters, learning_rate)\n",
        "        train_loss += loss.item() * len(x)\n",
        "\n",
        "        y_pred = p.argmax(dim=-1)\n",
        "        Y.append(y.cpu().numpy())\n",
        "        Y_pred.append(y_pred.cpu().numpy())\n",
        "\n",
        "    Y = np.concatenate(Y)\n",
        "    Y_pred = np.concatenate(Y_pred)\n",
        "    acc = accuracy(Y_pred, Y)\n",
        "    print(f'Accuracy of train set: {acc}')\n",
        "    return train_loss, acc\n",
        "\n",
        "\n",
        "def validate(loader, epoch=None, set_name=None):\n",
        "    '''This function validates the model on the test dataloader. The function goes through each batch and does\n",
        "    the following on each batch:\n",
        "        1- Calculate the model output\n",
        "        2- Calculate the loss using the model output\n",
        "        3- Print the loss for each batch and epoch\n",
        "\n",
        "    Finally the function calculates the model accuracy.'''\n",
        "    total_loss = 0\n",
        "    N = len(loader.dataset)\n",
        "\n",
        "    # Creating empty lists Y and Y_pred to store the labels and predictions of each batch\n",
        "    # for calculateing the accuracy later\n",
        "    Y = []\n",
        "    Y_pred = []\n",
        "    for i, (x, y) in enumerate(train_loader):\n",
        "        x = x.to(device)\n",
        "        y = y.to(device)\n",
        "        p = model(x, parameters)\n",
        "        loss = cross_entropy_loss(p, y)\n",
        "        loss_len = loss.item() * len(x)\n",
        "        total_loss += loss_len\n",
        "        y_pred = p.argmax(dim=-1)\n",
        "        Y.append(y.cpu().numpy())\n",
        "        Y_pred.append(y_pred.cpu().numpy())\n",
        "    Y = np.concatenate(Y)\n",
        "    Y_pred = np.concatenate(Y_pred)\n",
        "    total_loss /= N\n",
        "    acc = accuracy(Y_pred, Y)\n",
        "    print(f'Accuracy of {set_name} set: {acc}')\n",
        "\n",
        "    return total_loss, acc"
      ]
    },
    {
      "cell_type": "code",
      "execution_count": 18,
      "id": "87ebb4b6",
      "metadata": {
        "id": "87ebb4b6"
      },
      "outputs": [],
      "source": [
        "train_losses = []\n",
        "test_losses = []\n",
        "train_accuracies = []\n",
        "test_accuracies = []"
      ]
    },
    {
      "cell_type": "code",
      "execution_count": 19,
      "id": "28d4eb0b",
      "metadata": {
        "id": "28d4eb0b"
      },
      "outputs": [],
      "source": [
        "def train_model(dataloaders, num_epochs, learning_rate=0.001, model_name='pytorch_model'):\n",
        "    '''This function trains the model for the number of epochs given and stores, calculates and prints the train\n",
        "    and test losses and accuracies. Finally, it plots the accuracy and loss history for training and test sets'''\n",
        "    train_loader, test_loader = dataloaders\n",
        "\n",
        "    for epoch in range(num_epochs):\n",
        "        ## FILL HERE\n",
        "        ## You should calculate the train and test loss and accuracies for each epoch and add them to\n",
        "        ## the lists `train_losses`, `test_losses`, `train_accuracies` and `test_accuracies`\n",
        "        print(f'Epoch {epoch + 1}')\n",
        "        train_loss, train_accuracy = train(train_loader, learning_rate, epoch)\n",
        "        test_loss, test_accuracy = validate(test_loader, epoch, 'test')\n",
        "        print()\n",
        "\n",
        "        train_losses.append(train_loss)\n",
        "        test_losses.append(test_loss)\n",
        "        train_accuracies.append(train_accuracy)\n",
        "        test_accuracies.append(test_accuracy)\n",
        "    ## plot the loss history of training and test sets\n",
        "    ## FILL HERE\n",
        "    plt.figure()\n",
        "    plt.plot(test_losses, label='test')\n",
        "    plt.plot(train_losses, label='train')\n",
        "    plt.title('Loss history')\n",
        "    plt.xlabel('Epoch')\n",
        "    plt.ylabel('Loss')\n",
        "    plt.legend()\n",
        "    plt.show()\n",
        "    ## plot the accuracy history of training and test sets\n",
        "    ## FILL HERE\n",
        "    plt.figure()\n",
        "    plt.plot(test_accuracies, label='test')\n",
        "    plt.plot(train_accuracies, label='train')\n",
        "    plt.title('Accuracy history')\n",
        "    plt.xlabel('Epoch')\n",
        "    plt.ylabel('Accuracy')\n",
        "    plt.legend()\n",
        "    plt.show()"
      ]
    },
    {
      "cell_type": "code",
      "execution_count": 20,
      "id": "2ec4bdd2",
      "metadata": {
        "id": "2ec4bdd2",
        "colab": {
          "base_uri": "https://localhost:8080/",
          "height": 1000
        },
        "outputId": "b54d99e9-8e96-4636-dea4-25ec0cc9a3f3"
      },
      "outputs": [
        {
          "output_type": "stream",
          "name": "stdout",
          "text": [
            "Epoch 1\n",
            "Accuracy of train set: 0.3305\n",
            "Accuracy of test set: 0.30378333333333335\n",
            "\n",
            "Epoch 2\n",
            "Accuracy of train set: 0.26058333333333333\n",
            "Accuracy of test set: 0.3858333333333333\n",
            "\n",
            "Epoch 3\n",
            "Accuracy of train set: 0.52985\n",
            "Accuracy of test set: 0.5959166666666667\n",
            "\n",
            "Epoch 4\n",
            "Accuracy of train set: 0.64585\n",
            "Accuracy of test set: 0.6764833333333333\n",
            "\n",
            "Epoch 5\n",
            "Accuracy of train set: 0.6914333333333333\n",
            "Accuracy of test set: 0.6784166666666667\n",
            "\n",
            "Epoch 6\n",
            "Accuracy of train set: 0.72585\n",
            "Accuracy of test set: 0.74355\n",
            "\n",
            "Epoch 7\n",
            "Accuracy of train set: 0.75495\n",
            "Accuracy of test set: 0.7692833333333333\n",
            "\n",
            "Epoch 8\n",
            "Accuracy of train set: 0.7736333333333333\n",
            "Accuracy of test set: 0.7825333333333333\n",
            "\n",
            "Epoch 9\n",
            "Accuracy of train set: 0.7882666666666667\n",
            "Accuracy of test set: 0.7986833333333333\n",
            "\n",
            "Epoch 10\n",
            "Accuracy of train set: 0.8008166666666666\n",
            "Accuracy of test set: 0.8022666666666667\n",
            "\n",
            "Epoch 11\n",
            "Accuracy of train set: 0.8107833333333333\n",
            "Accuracy of test set: 0.8180833333333334\n",
            "\n",
            "Epoch 12\n",
            "Accuracy of train set: 0.8178833333333333\n",
            "Accuracy of test set: 0.8135333333333333\n",
            "\n",
            "Epoch 13\n",
            "Accuracy of train set: 0.8239\n",
            "Accuracy of test set: 0.82555\n",
            "\n",
            "Epoch 14\n",
            "Accuracy of train set: 0.8295666666666667\n",
            "Accuracy of test set: 0.8324166666666667\n",
            "\n",
            "Epoch 15\n",
            "Accuracy of train set: 0.8324833333333334\n",
            "Accuracy of test set: 0.8250666666666666\n",
            "\n",
            "Epoch 16\n",
            "Accuracy of train set: 0.8385\n",
            "Accuracy of test set: 0.8376666666666667\n",
            "\n",
            "Epoch 17\n",
            "Accuracy of train set: 0.8401833333333333\n",
            "Accuracy of test set: 0.84\n",
            "\n",
            "Epoch 18\n",
            "Accuracy of train set: 0.8445333333333334\n",
            "Accuracy of test set: 0.8492\n",
            "\n",
            "Epoch 19\n",
            "Accuracy of train set: 0.8466\n",
            "Accuracy of test set: 0.85215\n",
            "\n",
            "Epoch 20\n",
            "Accuracy of train set: 0.84885\n",
            "Accuracy of test set: 0.8505166666666667\n",
            "\n",
            "Epoch 21\n",
            "Accuracy of train set: 0.8515666666666667\n",
            "Accuracy of test set: 0.8532333333333333\n",
            "\n",
            "Epoch 22\n",
            "Accuracy of train set: 0.8555666666666667\n",
            "Accuracy of test set: 0.8499833333333333\n",
            "\n",
            "Epoch 23\n",
            "Accuracy of train set: 0.8578333333333333\n",
            "Accuracy of test set: 0.85615\n",
            "\n",
            "Epoch 24\n",
            "Accuracy of train set: 0.8604333333333334\n",
            "Accuracy of test set: 0.8510333333333333\n",
            "\n",
            "Epoch 25\n",
            "Accuracy of train set: 0.8622333333333333\n",
            "Accuracy of test set: 0.8673666666666666\n",
            "\n"
          ]
        },
        {
          "output_type": "display_data",
          "data": {
            "text/plain": [
              "<Figure size 640x480 with 1 Axes>"
            ],
            "image/png": "[encoded data removed]"
          },
          "metadata": {}
        },
        {
          "output_type": "display_data",
          "data": {
            "text/plain": [
              "<Figure size 640x480 with 1 Axes>"
            ],
            "image/png": "[encoded data removed]"
          },
          "metadata": {}
        }
      ],
      "source": [
        "\n",
        "train_model([train_loader, test_loader], num_epochs=25, learning_rate=0.005)"
      ]
    },
    {
      "cell_type": "code",
      "execution_count": 21,
      "id": "ceb5783f",
      "metadata": {
        "id": "ceb5783f",
        "colab": {
          "base_uri": "https://localhost:8080/"
        },
        "outputId": "9217c873-e432-4b6c-eeb1-89561a0e8b82"
      },
      "outputs": [
        {
          "output_type": "stream",
          "name": "stdout",
          "text": [
            "Final test accuracy: 0.8673666666666666\n"
          ]
        }
      ],
      "source": [
        "print(f'Final test accuracy: {test_accuracies[-1]}')"
      ]
    },
    {
      "cell_type": "markdown",
      "id": "a5e128ed",
      "metadata": {
        "id": "a5e128ed"
      },
      "source": [
        "## Visualization of the labels and predictions\n",
        "\n",
        "In this section, you should visual one image from each class and show both the actual label and the predicted label for that image."
      ]
    },
    {
      "cell_type": "code",
      "execution_count": 22,
      "id": "6c0b79fd",
      "metadata": {
        "id": "6c0b79fd",
        "colab": {
          "base_uri": "https://localhost:8080/",
          "height": 145
        },
        "outputId": "8aa72f4e-30fa-46f2-fcfc-685d8afd65c5"
      },
      "outputs": [
        {
          "output_type": "display_data",
          "data": {
            "text/plain": [
              "<Figure size 1000x200 with 10 Axes>"
            ],
            "image/png": "[encoded data removed]"
          },
          "metadata": {}
        }
      ],
      "source": [
        "## FILL HERE\n",
        "samples = {}\n",
        "samples_labels = {}\n",
        "for image, label in test_set:\n",
        "    if label not in samples:\n",
        "        samples[label],samples_labels[label] = image, label\n",
        "    if len(samples) == num_classes:\n",
        "        break\n",
        "p = model(torch.stack(list(samples.values())).to(device), parameters)\n",
        "y_pred = p.argmax(dim=-1).cpu().numpy()\n",
        "fig, axs = plt.subplots(1, num_classes, figsize=(10, 2))\n",
        "for i in range(num_classes):\n",
        "    axs[i].imshow(samples[i].squeeze(), cmap='gray')\n",
        "    axs[i].set_title(f'True: {samples_labels[i]}\\nPred: {y_pred[i]}')\n",
        "    axs[i].axis('off')\n",
        "plt.show()\n"
      ]
    }
  ],
  "metadata": {
    "kernelspec": {
      "display_name": "Python 3",
      "language": "python",
      "name": "python3"
    },
    "language_info": {
      "codemirror_mode": {
        "name": "ipython",
        "version": 3
      },
      "file_extension": ".py",
      "mimetype": "text/x-python",
      "name": "python",
      "nbconvert_exporter": "python",
      "pygments_lexer": "ipython3",
      "version": "3.8.3"
    },
    "colab": {
      "provenance": [],
      "include_colab_link": true
    }
  },
  "nbformat": 4,
  "nbformat_minor": 5
}