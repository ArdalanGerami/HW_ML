{
  "nbformat": 4,
  "nbformat_minor": 0,
  "metadata": {
    "colab": {
      "provenance": [],
      "authorship_tag": "ABX9TyOWrepksyHhGnRVCodxfjx1",
      "include_colab_link": true
    },
    "kernelspec": {
      "name": "python3",
      "display_name": "Python 3"
    },
    "language_info": {
      "name": "python"
    }
  },
  "cells": [
    {
      "cell_type": "markdown",
      "metadata": {
        "id": "view-in-github",
        "colab_type": "text"
      },
      "source": [
        "<a href=\"https://colab.research.google.com/github/Ardalan-gerami81/HW_ML/blob/main/Q3.ipynb\" target=\"_parent\"><img src=\"https://colab.research.google.com/assets/colab-badge.svg\" alt=\"Open In Colab\"/></a>"
      ]
    },
    {
      "cell_type": "code",
      "execution_count": 3,
      "metadata": {
        "id": "BpvdvEB0bKys"
      },
      "outputs": [],
      "source": [
        "import numpy as np\n",
        "import cvxpy as cp"
      ]
    },
    {
      "cell_type": "code",
      "source": [
        "n_1 = 1\n",
        "n_2 = 1\n",
        "n_3 = 1\n",
        "n = n_1 + n_2 + n_3\n",
        "S = np.ones((n_1+n_2, n_1+n_2))\n",
        "T = np.ones((n_2+n_3, n_2+n_3))\n",
        "R = cp.Variable((n, n), PSD=True)\n",
        "R1 = R[0:2, 0:2]\n",
        "R2 = R[1:3, 1:3]\n",
        "R_13 = R[0, 2]"
      ],
      "metadata": {
        "id": "euzf-68YcP6N"
      },
      "execution_count": 20,
      "outputs": []
    },
    {
      "cell_type": "code",
      "source": [
        "objective = cp.Minimize(cp.norm(R1 - S, \"fro\")**2 + cp.norm(R2 - T, \"fro\")**2 +cp.norm(R_13, \"fro\")**2)\n",
        "# now we should recover R due to part\n",
        "p = cp.Problem(objective, [])\n",
        "p.solve()\n",
        "print('Optimal value:')\n",
        "print(p.value)\n",
        "print('Recovered covariance matrix R')\n",
        "print(str(R.value))\n",
        "print('Eigenvalues')\n",
        "print(str(np.linalg.eig(R.value)[0]))"
      ],
      "metadata": {
        "colab": {
          "base_uri": "https://localhost:8080/"
        },
        "id": "HZRuUA_VcbkS",
        "outputId": "3aac9c57-1e80-41bd-9622-1f0230f2b67a"
      },
      "execution_count": 9,
      "outputs": [
        {
          "output_type": "stream",
          "name": "stdout",
          "text": [
            "Optimal value:\n",
            "0.17484495311647527\n",
            "Recovered covariance matrix R\n",
            "[[1.09855076 0.84973176 0.19710124]\n",
            " [0.84973176 1.11456302 0.84973176]\n",
            " [0.19710124 0.84973176 1.09855076]]\n"
          ]
        }
      ]
    },
    {
      "cell_type": "code",
      "source": [
        "# now we check that R id psd or not\n",
        "print('Eigenvalues')\n",
        "print(str(np.linalg.eig(R.value)[0]))"
      ],
      "metadata": {
        "colab": {
          "base_uri": "https://localhost:8080/"
        },
        "id": "qqFMzfQNfBeU",
        "outputId": "e4013458-4bb6-4054-edff-87099dc47fd5"
      },
      "execution_count": 18,
      "outputs": [
        {
          "output_type": "stream",
          "name": "stdout",
          "text": [
            "Eigenvalues\n",
            "[ 2.41021598e+00  9.01449521e-01 -9.60079861e-07]\n"
          ]
        }
      ]
    }
  ]
}