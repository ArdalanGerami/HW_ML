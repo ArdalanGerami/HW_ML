{
 "cells": [
  {
   "cell_type": "markdown",
   "metadata": {
    "id": "9CFNN5Ms51un"
   },
   "source": [
    "<h1 align=\"center\">An Introduction to Machine Learning - 25737</h1>\n",
    "<h4 align=\"center\">Dr. Sajjad Amini</h4>\n",
    "<h4 align=\"center\">Sharif University of Technology, Spring 2023</h4>\n",
    "\n",
    "# Problem Set 02\n",
    "\n",
    "Welcome to your second assignment. This exercise gives you a brief introduction to Python. \n"
   ]
  },
  {
   "cell_type": "markdown",
   "metadata": {
    "id": "otVWavun6BLM"
   },
   "source": [
    "STUDENT NAME: Ardalan Gerami\n",
    "\n",
    "STUDENT ID: 99102112"
   ]
  },
  {
   "cell_type": "markdown",
   "metadata": {
    "id": "ZmfUgXgE51uo"
   },
   "source": [
    "## Import \n",
    ">Put all of your imports for this file in the below cell."
   ]
  },
  {
   "cell_type": "code",
   "execution_count": 415,
   "metadata": {
    "id": "PKyVIvPF51uo"
   },
   "outputs": [],
   "source": [
    "### START CODE HERE ###\n",
    "import numpy as np\n",
    "import pandas as pd\n",
    "import matplotlib.pyplot as plt\n",
    "%matplotlib inline\n",
    "import math as m\n",
    "import re\n",
    "import csv\n",
    "from collections import Counter\n",
    "### END CODE HERE ###"
   ]
  },
  {
   "cell_type": "markdown",
   "metadata": {
    "id": "TK-ZIy9Z51up"
   },
   "source": [
    "# Question 1"
   ]
  },
  {
   "cell_type": "markdown",
   "metadata": {
    "id": "xATpgtcD51up"
   },
   "source": [
    "## Array creation\n",
    ">Create the followings to numpy array:\n",
    "* A: a 3\\*3 array like this:\n",
    "$$\n",
    "A = \\left(\\begin{array}{cc} \n",
    "10 & 20 & 30\\\\\n",
    "5 & 10 & 15\\\\\n",
    "1 & 5 & 8\n",
    "\\end{array}\\right)\n",
    "$$ \n",
    "* B: a 3\\*3\\*4 that filled with the numbers start from 15 and have steps of 5 to the end. The array should be filled first along the first dimension then the second dimension and at last the third dimension. like this:\n",
    "$$\n",
    "B[:, :, 0] = \\left(\\begin{array}{cc} \n",
    "15 & 30 & 45\\\\\n",
    "20 & 35 & 50\\\\\n",
    "25 & 40 & 55\n",
    "\\end{array}\\right)\n",
    "$$ "
   ]
  },
  {
   "cell_type": "code",
   "execution_count": 19,
   "metadata": {
    "id": "TjIs628Y51up"
   },
   "outputs": [
    {
     "name": "stdout",
     "output_type": "stream",
     "text": [
      "A =\n",
      "[[10 20 30]\n",
      " [ 5 10 15]\n",
      " [ 1  5  8]]\n",
      "B =\n",
      "[[[ 15  30  45]\n",
      "  [ 20  35  50]\n",
      "  [ 25  40  55]]\n",
      "\n",
      " [[ 60  75  90]\n",
      "  [ 65  80  95]\n",
      "  [ 70  85 100]]\n",
      "\n",
      " [[105 120 135]\n",
      "  [110 125 140]\n",
      "  [115 130 145]]\n",
      "\n",
      " [[150 165 180]\n",
      "  [155 170 185]\n",
      "  [160 175 190]]]\n"
     ]
    }
   ],
   "source": [
    "### START CODE HERE ###\n",
    "A_list = [[10,20,30],[5,10,15],[1,5,8]]\n",
    "A = np.array(A_list)\n",
    "print('A =')\n",
    "print(A)\n",
    "b = []\n",
    "for i in range(36):\n",
    "    b.append(5*i+15)\n",
    "one_dimention_B = np.reshape(np.ravel(b), (4, 3, 3))\n",
    "B_list = []\n",
    "for j in range(4):\n",
    "    B_list.append(one_dimention_B[j].transpose())\n",
    "B = np.array(B_list)\n",
    "print('B =')\n",
    "print(B)\n",
    "### END CODE HERE ###"
   ]
  },
  {
   "cell_type": "markdown",
   "metadata": {
    "id": "FnkUQTNY51up"
   },
   "source": [
    "## Replacement\n",
    ">Replace the last slice of array B (B[:, :, 3]) with values of A. Then print the result."
   ]
  },
  {
   "cell_type": "code",
   "execution_count": 8,
   "metadata": {
    "id": "P8VC57_o51uq"
   },
   "outputs": [
    {
     "name": "stdout",
     "output_type": "stream",
     "text": [
      "A =\n",
      "[[10 20 30]\n",
      " [ 5 10 15]\n",
      " [ 1  5  8]]\n",
      "B =\n",
      "[[[ 15  30  45]\n",
      "  [ 20  35  50]\n",
      "  [ 25  40  55]]\n",
      "\n",
      " [[ 60  75  90]\n",
      "  [ 65  80  95]\n",
      "  [ 70  85 100]]\n",
      "\n",
      " [[105 120 135]\n",
      "  [110 125 140]\n",
      "  [115 130 145]]\n",
      "\n",
      " [[ 10  20  30]\n",
      "  [  5  10  15]\n",
      "  [  1   5   8]]]\n"
     ]
    }
   ],
   "source": [
    "### START CODE HERE ###\n",
    "A_list = [[10,20,30],[5,10,15],[1,5,8]]\n",
    "A = np.array(A_list)\n",
    "print('A =')\n",
    "print(A)\n",
    "b = []\n",
    "for i in range(36):\n",
    "    b.append(5*i+15)\n",
    "one_dimention_B = np.reshape(np.ravel(b), (4, 3, 3))\n",
    "B_list = []\n",
    "for j in range(4):\n",
    "    B_list.append(one_dimention_B[j].transpose())\n",
    "B = np.array(B_list)\n",
    "B[3] = A\n",
    "print('B =')\n",
    "print(B)\n",
    "### END CODE HERE ###"
   ]
  },
  {
   "cell_type": "markdown",
   "metadata": {
    "id": "nZs4P5AZ51uq"
   },
   "source": [
    "## Axis Swap \n",
    ">Swap the first(B[:, :, 0]) and last(B[:, :, 3]) slice of the array B **only with one line of code**. Then print the result."
   ]
  },
  {
   "cell_type": "code",
   "execution_count": 587,
   "metadata": {
    "id": "WmS33bBl51uq"
   },
   "outputs": [
    {
     "name": "stdout",
     "output_type": "stream",
     "text": [
      "B =\n",
      "[[[150 165 180]\n",
      "  [155 170 185]\n",
      "  [160 175 190]]\n",
      "\n",
      " [[ 60  75  90]\n",
      "  [ 65  80  95]\n",
      "  [ 70  85 100]]\n",
      "\n",
      " [[105 120 135]\n",
      "  [110 125 140]\n",
      "  [115 130 145]]\n",
      "\n",
      " [[ 15  30  45]\n",
      "  [ 20  35  50]\n",
      "  [ 25  40  55]]]\n"
     ]
    }
   ],
   "source": [
    "### START CODE HERE ###\n",
    "A_list = [[10,20,30],[5,10,15],[1,5,8]]\n",
    "A = np.array(A_list)\n",
    "b = []\n",
    "for i in range(36):\n",
    "    b.append(5*i+15)\n",
    "one_dimention_B = np.reshape(np.ravel(b), (4, 3, 3))\n",
    "B_list = []\n",
    "for j in range(4):\n",
    "    B_list.append(one_dimention_B[j].transpose())\n",
    "B_list[0], B_list[3] = B_list[3], B_list[0]     #only with one line of code\n",
    "B = np.array(B_list)\n",
    "print('B =')\n",
    "print(B)\n",
    "### END CODE HERE ###"
   ]
  },
  {
   "cell_type": "markdown",
   "metadata": {
    "id": "220LTscL51uq"
   },
   "source": [
    "## Transposing \n",
    ">Transpose the array B elements in each slice. Then print the result."
   ]
  },
  {
   "cell_type": "code",
   "execution_count": 53,
   "metadata": {
    "id": "aNMAlnaC51uq",
    "scrolled": true
   },
   "outputs": [
    {
     "name": "stdout",
     "output_type": "stream",
     "text": [
      "B =\n",
      "[[[150 155 160]\n",
      "  [165 170 175]\n",
      "  [180 185 190]]\n",
      "\n",
      " [[ 60  65  70]\n",
      "  [ 75  80  85]\n",
      "  [ 90  95 100]]\n",
      "\n",
      " [[105 110 115]\n",
      "  [120 125 130]\n",
      "  [135 140 145]]\n",
      "\n",
      " [[ 15  20  25]\n",
      "  [ 30  35  40]\n",
      "  [ 45  50  55]]]\n"
     ]
    }
   ],
   "source": [
    "### START CODE HERE ###\n",
    "A_list = [[10,20,30],[5,10,15],[1,5,8]]\n",
    "A = np.array(A_list)\n",
    "b = []\n",
    "for i in range(36):\n",
    "    b.append(5*i+15)\n",
    "one_dimention_B = np.reshape(np.ravel(b), (4, 3, 3))\n",
    "B_list = []\n",
    "B_list1 = []\n",
    "for j in range(4):\n",
    "    B_list.append(one_dimention_B[j].transpose())\n",
    "B_list[0], B_list[3] = B_list[3], B_list[0]     #only with one line of code\n",
    "one_dimention_B = np.reshape(np.ravel(B_list), (4, 3, 3))\n",
    "for j in range(4):\n",
    "    B_list1.append(one_dimention_B[j].transpose())\n",
    "Ba = np.array(B_list1)\n",
    "print('B =')\n",
    "print(Ba)\n",
    "### END CODE HERE ###"
   ]
  },
  {
   "cell_type": "markdown",
   "metadata": {
    "id": "xYFuQ6_H51uq"
   },
   "source": [
    "## Matrix Multiplication\n",
    ">Calculate the matrix multiplication of all slices of the array B. \n",
    "(B[:, :, 0] \\* B[:, :, 1] \\* B[:, :, 2] \\* B[:, :, 3]). Then print the result.\n",
    "\n",
    ">**Note**: the result should be a 3\\*3 array. "
   ]
  },
  {
   "cell_type": "code",
   "execution_count": 54,
   "metadata": {
    "id": "HfQRENtP51uq"
   },
   "outputs": [
    {
     "name": "stdout",
     "output_type": "stream",
     "text": [
      "[[[150 155 160]\n",
      "  [165 170 175]\n",
      "  [180 185 190]]\n",
      "\n",
      " [[ 60  65  70]\n",
      "  [ 75  80  85]\n",
      "  [ 90  95 100]]\n",
      "\n",
      " [[105 110 115]\n",
      "  [120 125 130]\n",
      "  [135 140 145]]\n",
      "\n",
      " [[ 15  20  25]\n",
      "  [ 30  35  40]\n",
      "  [ 45  50  55]]]\n",
      "B =\n",
      "[[1283647500 1494787500 1705927500]\n",
      " [1407375000 1638866250 1870357500]\n",
      " [1531102500 1782945000 2034787500]]\n"
     ]
    }
   ],
   "source": [
    "### START CODE HERE ###\n",
    "A_list = [[10,20,30],[5,10,15],[1,5,8]]\n",
    "A = np.array(A_list)\n",
    "b = []\n",
    "for i in range(36):\n",
    "    b.append(5*i+15)\n",
    "one_dimention_B = np.reshape(np.ravel(b), (4, 3, 3))\n",
    "B_list = []\n",
    "B_list1 = []\n",
    "for j in range(4):\n",
    "    B_list.append(one_dimention_B[j].transpose())\n",
    "B_list[0], B_list[3] = B_list[3], B_list[0]     #only with one line of code\n",
    "one_dimention_B = np.reshape(np.ravel(B_list), (4, 3, 3))\n",
    "for j in range(4):\n",
    "    B_list1.append(one_dimention_B[j].transpose())\n",
    "print(np.array(B_list1))\n",
    "B0 = np.array(B_list1[0])\n",
    "B1 = np.array(B_list1[1])\n",
    "B_1 = np.dot(B0,B1)\n",
    "B2 = np.array(B_list1[2])\n",
    "B_2 = np.dot(B_1,B2)\n",
    "B3 = np.array(B_list1[3])\n",
    "B = np.dot(B_2,B3)\n",
    "print('B =')\n",
    "print(B)\n",
    "### END CODE HERE ###"
   ]
  },
  {
   "cell_type": "markdown",
   "metadata": {
    "id": "T-aKILXl51uq"
   },
   "source": [
    "## Determinant\n",
    ">Calculate the determinant of the array A and print it."
   ]
  },
  {
   "cell_type": "code",
   "execution_count": 114,
   "metadata": {
    "id": "IuIyFxIb51ur"
   },
   "outputs": [
    {
     "name": "stdout",
     "output_type": "stream",
     "text": [
      "0.0\n"
     ]
    }
   ],
   "source": [
    "### START CODE HERE ###\n",
    "A_list = [[10,20,30],[5,10,15],[1,5,8]]\n",
    "A = np.array(A_list)\n",
    "A_det = np.linalg.det(A)\n",
    "print(A_det)\n",
    "### END CODE HERE ###"
   ]
  },
  {
   "cell_type": "markdown",
   "metadata": {
    "id": "dUxqZ--i51ur"
   },
   "source": [
    "# Question 2"
   ]
  },
  {
   "cell_type": "markdown",
   "metadata": {
    "id": "tVorf1Zj51ur"
   },
   "source": [
    "## Loading dataset\n",
    ">Load the IMDB-Movie-Data.csv file into a pandas dataframe and show its first 5 rows. Each row of this dataframe corresponds to one film."
   ]
  },
  {
   "cell_type": "code",
   "execution_count": 593,
   "metadata": {
    "id": "dIsa36yi51ur"
   },
   "outputs": [
    {
     "name": "stdout",
     "output_type": "stream",
     "text": [
      "   Rank                    Title                     Genre  \\\n",
      "0     1  Guardians of the Galaxy   Action,Adventure,Sci-Fi   \n",
      "1     2               Prometheus  Adventure,Mystery,Sci-Fi   \n",
      "2     3                    Split           Horror,Thriller   \n",
      "3     4                     Sing   Animation,Comedy,Family   \n",
      "4     5            Suicide Squad  Action,Adventure,Fantasy   \n",
      "5     6           The Great Wall  Action,Adventure,Fantasy   \n",
      "\n",
      "                                         Description              Director  \\\n",
      "0  A group of intergalactic criminals are forced ...            James Gunn   \n",
      "1  Following clues to the origin of mankind, a te...          Ridley Scott   \n",
      "2  Three girls are kidnapped by a man with a diag...    M. Night Shyamalan   \n",
      "3  In a city of humanoid animals, a hustling thea...  Christophe Lourdelet   \n",
      "4  A secret government agency recruits some of th...            David Ayer   \n",
      "5  European mercenaries searching for black powde...           Yimou Zhang   \n",
      "\n",
      "                                              Actors  Year  Runtime (Minutes)  \\\n",
      "0  Chris Pratt, Vin Diesel, Bradley Cooper, Zoe S...  2014                121   \n",
      "1  Noomi Rapace, Logan Marshall-Green, Michael Fa...  2012                124   \n",
      "2  James McAvoy, Anya Taylor-Joy, Haley Lu Richar...  2016                117   \n",
      "3  Matthew McConaughey,Reese Witherspoon, Seth Ma...  2016                108   \n",
      "4  Will Smith, Jared Leto, Margot Robbie, Viola D...  2016                123   \n",
      "5      Matt Damon, Tian Jing, Willem Dafoe, Andy Lau  2016                103   \n",
      "\n",
      "   Rating   Votes  Revenue (Millions)  Metascore  \n",
      "0     8.1  757074              333.13       76.0  \n",
      "1     7.0  485820              126.46       65.0  \n",
      "2     7.3  157606              138.12       62.0  \n",
      "3     7.2   60545              270.32       59.0  \n",
      "4     6.2  393727              325.02       40.0  \n",
      "5     6.1   56036               45.13       42.0  \n"
     ]
    }
   ],
   "source": [
    "### START CODE HERE ###\n",
    "IMDB_data = pd.read_csv(r'IMDB-Movie-Data.csv')\n",
    "print(IMDB_data.loc[0:5])\n",
    "### END CODE HERE ###"
   ]
  },
  {
   "cell_type": "markdown",
   "metadata": {
    "id": "pgDvllsV51ur"
   },
   "source": [
    "## Actors/Actresses Activity\n",
    ">For each Actors/Actresses caculate the number of movies in the dataframe, then sort the actors/actresses first by their number of movies in descending order and then by their name in ascending order. "
   ]
  },
  {
   "cell_type": "code",
   "execution_count": 594,
   "metadata": {
    "id": "GfB9w9UO51ur",
    "scrolled": false
   },
   "outputs": [
    {
     "name": "stdout",
     "output_type": "stream",
     "text": [
      "['50 Cent', 'A.C. Peterson', 'AJ Michalka', 'Aamir Khan', 'Aaron Burns', 'Aaron Eckhart', 'Aaron Paul', 'Aaron Poole', 'Aaron Taylor-Johnson', 'Aaron Yoo', 'Aasif Mandvi', 'Abbie Cornish', 'Abigail Breslin', 'Adam Brody', 'Adam Campbell', 'Adam Devine', 'Adam Driver', 'Adam G. Sevani', 'Adam Levine', 'Adam Pally', 'Adam Rodriguez', 'Adam Sandler', 'Addison Timlin', 'Adelaide Kane', 'Adewale Akinnuoye-Agbaje', 'Adil Hussain', 'Adria Arjona', 'Adrian Grenier', 'Adrian Martinez', 'Adrian Titieni', 'Adrianne Palicki', 'Adrien Brody', 'Adèle Exarchopoulos', 'Ahney Her', 'Aidan Gillen', 'Aidan Quinn', 'Aidan Turner', 'Aiden Longworth', 'Akihiro Kitamura', 'Akiva Schaffer', 'Alain Moussi', 'Alan Alda', 'Alan Arkin', 'Alan Rickman', 'Alan Tudyk', 'Albert Brooks', 'Albert Finney', 'Alden Ehrenreich', 'Aldis Hodge', 'Alec Baldwin', 'Aleksandr Armer', 'Alessandro Nivola', 'Alex Essoe', 'Alex Fisher', 'Alex Karpovsky', 'Alex Pettyfer', 'Alex R. Hibbert', 'Alexander Black', 'Alexander Ludwig', 'Alexander Skarsgård', 'Alexandra Daddario', 'Alexandra Maria Lara', 'Alexi Pappas', 'Alexis Clagett', 'Alexis Dziena', 'Alfie Allen', 'Alfre Woodard', 'Alfred Molina', 'Ali Larter', 'Alia Bhatt', 'Alia Shawkat', 'Alice Braga', 'Alice Englert', 'Alice Eve', 'Alicia Vikander', 'Alison Brie', 'Alison Pill', 'Alison Sudol', 'Alistair Abell', 'Allen Leech', 'Allison Janney', 'Allison Tolman', 'Alon Aboutboul', 'Alycia Debnam-Carey', 'Alyson Hannigan', 'Amanda Bynes', 'Amanda Peet', 'Amanda Righetti', 'Amanda Seyfried', 'Amara Miller', 'Amber Heard', 'Amber Perkins', 'Amber Tamblyn', 'America Ferrera', 'Amr Waked', 'Amy Adams', 'Amy Poehler', 'Amy Ryan', 'Amy Schumer', 'Ana Wagener', 'Ana de Armas', 'Analeigh Tipton', 'Anders Danielsen Lie', 'Anders Holm', 'Andie MacDowell', 'Andre Braugher', 'Andrea Riseborough', 'Andrea Whitburn', 'Andreas Wisniewski', 'Andrew Garfield', 'Andrew Howard', 'Andrew Scott', 'Andrew Simpson', 'André Marcon', 'Andy Buckley', 'Andy Garcia', 'Andy Lau', 'Andy Powers', 'Andy Samberg', 'Andy Serkis', 'Ang Phula Sherpa', 'Angela Bassett', 'Angeliki Papoulia', 'Angelina Jolie', 'Angelique Pereira', 'Angelo Josue Lozano Corzo', 'Angourie Rice', 'Anika Noni Rose', 'Anil Kapoor', 'Anna Camp', 'Anna Faris', 'Anna Foglietta', 'Anna Friel', 'Anna Hutchison', 'Anna Kendrick', 'AnnaSophia Robb', 'Annabelle Attanasio', 'Annabelle Wallis', 'Annabeth Gish', 'Annalise Basso', 'Anne Consigny', 'Anne Dorval', 'Anne Hathaway', 'Anne Le Ny', 'Annette Bening', 'Annie Rose Buckley', 'Annika Wedderkopp', 'Ansel Elgort', 'Anthony Anderson', 'Anthony Cirillo', 'Anthony Edwards', 'Anthony Hopkins', 'Anthony LaPaglia', 'Anthony Mackie', 'Antje Traue', 'Antoine Bertrand', 'Antoine-Olivier Pilon', 'Anton Adasinsky', 'Anton Yelchin', 'Antonia Ribero', 'Antonio Banderas', 'Antonio Tarver', 'Anushka Sharma', 'Anushka Shetty', 'Anya Taylor-Joy', 'Aoi Yuki', 'Aomi Muyock', 'Ari Graynor', 'Ariadna Gil', 'Ariel Levy', 'Arielle Holmes', 'Arlen Escarpeta', 'Armie Hammer', 'Armin Mueller-Stahl', 'Arnaud Viard', 'Arnold Schwarzenegger', 'Art Parkinson', 'Arturo Castro', 'Aryana Engineer', 'Asa Butterfield', 'Ashleigh Cummings', 'Ashley Benson', 'Ashley C. Williams', 'Ashley Tisdale', 'Ashley Walters', 'Ashlyn Sanchez', 'Ashlynn Yennie', 'Ashton Kutcher', 'Astrid Bergès-Frisbey', 'Aubrey Plaza', 'Audrey Fleurot', 'Audrey Tautou', \"Auli'i Cravalho\", 'Aurélien Recoing', 'Austin Abrams', 'Austin Pendleton', 'Austin Stowell', 'Axel Devillers', 'Ayse Howard', 'Babak Karimi', 'Bahar Pars', 'Bailey Anne Borders', 'Baptiste Goy', 'Barbara Crampton', 'Barkhad Abdi', 'Barkhad Abdirahman', 'Barry Pepper', 'Barry Ward', 'Bee Vang', 'Bel Powley', 'Bella Heathcote', 'Bella Thorne', 'Ben Affleck', 'Ben Barnes', 'Ben Burtt', 'Ben Foster', 'Ben Kingsley', 'Ben Stiller', 'Ben Walker', 'Ben Whishaw', 'Ben Winchell', 'Benedict Cumberbatch', 'Benedict Wong', 'Benicio Del Toro', 'Benjamin Bratt', 'Benjamin Walker', \"Beverly D'Angelo\", 'Bijou Phillips', 'Bill Engvall', 'Bill Hader', 'Bill Murray', 'Bill Nighy', 'Bill Paxton', 'Bill Pullman', 'Billie Piper', 'Billy Bob Thornton', 'Billy Burke', 'Billy Connolly', 'Billy Crudup', 'Billy Crystal', 'Billy Magnussen', 'Blake Jenner', 'Blake Lively', 'Blanche Baker', 'Blythe Auffarth', 'Blythe Danner', 'Bob Balaban', 'Bob the Cat', 'Bokeem Woodbine', 'Boman Irani', 'Bonnie Hunt', 'Boyd Holbrook', 'Brad Garrett', 'Brad Pitt', 'Bradley Cooper', 'Brady Corbet', 'Branden Coles', 'Brandon Routh', 'Brandon Scott', 'Brandon T. Jackson', 'Brea Grant', 'Bree Turner', 'Brenda Blethyn', 'Brendan Fraser', 'Brendan Gleeson', 'Brenton Thwaites', 'Brett Cullen', 'Bria L. Murphy', 'Brian Caspe', 'Brian Cox', 'Brian Dennehy', 'Brian Geraghty', 'Brian Howe', 'Brian Marc', 'Brian Milligan', 'Brian White', 'Briana Evigan', 'Briana Shann', 'Bridgette Barrett', 'Brie Larson', 'Brighton Sharbino', 'Brit Marling', 'Brit Morgan', 'Britt Robertson', 'Brittany Blanton', 'Brittany Murphy', 'Brittany Snow', 'Brooke Shields', 'Brooklyn Decker', 'Bruce Boxleitner', 'Bruce Campbell', 'Bruce Greenwood', 'Bruce Willis', 'Bruno Campos', 'Bryan Cranston', 'Bryan Greenberg', 'Bryce Dallas Howard', 'Burt Young', 'Byung-hun Lee', 'Bárbara Lennie', 'C.H. Evans', 'CCH Pounder', 'Caitlyn Rund', 'Callan McAuliffe', 'Callie Hernandez', 'Callum Keith Rennie', 'Callum Turner', 'Calum Worthy', 'Cam Gigandet', 'Cameron Diaz', 'Camille Cottin', 'Candice Bergen', 'Cara Buono', 'Cara Delevingne', 'Carey Mulligan', 'Carice van Houten', 'Carla Gugino', 'Carla Quevedo', 'Carly Rae Jepsen', 'Carmen Ejogo', 'Carmen Electra', 'Carrie-Anne Moss', 'Cary Elwes', 'Cary Joji Fukunaga', 'Cary-Hiroyuki Tagawa', 'Casey Affleck', 'Cassie Ventura', 'Catalina Sandino Moreno', 'Cate Blanchett', 'Catherine Bégin', 'Catherine Keener', 'Catherine Walker', 'Catinca Untaru', 'Cedric the Entertainer', 'Chadwick Boseman', 'Channing Tatum', 'Charles Berling', 'Charles Dance', 'Charles S. Dutton', 'Charlie Cox', 'Charlie Day', 'Charlie Heaton', 'Charlie Hunnam', 'Charlie Tahan', 'Charlize Theron', 'Charlotte Gainsbourg', 'Charlotte Le Bon', 'Chase Offerle', 'Chase Williamson', 'Chatchawai Kamonsakpitak', 'Cheryl Hines', 'Chira Cassel', 'Chiwetel Ejiofor', 'Chloë Grace Moretz', 'Chloë Sevigny', 'Chris Cooper', 'Chris Evans', 'Chris Gethard', 'Chris Hemsworth', 'Chris Isaak', 'Chris Klein', 'Chris Messina', 'Chris Pine', 'Chris Pratt', 'Chris Rock', 'Chris Wedge', 'Christian Bale', 'Christian Cooke', 'Christian Distefano', 'Christian Slater', 'Christian Stevens', 'Christian Stolte', 'Christina Applegate', 'Christina Grimmie', 'Christina Hendricks', 'Christoph Waltz', 'Christopher Carley', 'Christopher Evan Welch', 'Christopher Fairbank', 'Christopher Fitzgerald', 'Christopher Jordan Wallace', 'Christopher Lee', 'Christopher McDonald', 'Christopher Meyer', 'Christopher Mintz-Plasse', 'Christopher Plummer', 'Christopher Walken', 'Christos Stergioglou', 'Ciarán Hinds', 'Cillian Murphy', 'Claire Danes', 'Clara Mamet', 'Clifton Collins Jr.', 'Clint Dyer', 'Clint Eastwood', 'Clive Owen', 'Clémence Poésy', 'Cobie Smulders', 'Cole Konis', 'Colin Farrell', 'Colin Firth', 'Colin Hanks', 'Colin Quinn', 'Colleen Camp', 'Colm Feore', 'Colm Meaney', 'Colton Haynes', 'Common', 'Connie Nielsen', 'Connor Paolo', 'Corbin Reid', 'Corey Hawkins', 'Corey Stoll', 'Cori Gonzalez-Macuer', 'Cosmo Jarvis', 'Courteney Cox', 'Courtney Halverson', 'Craig Ferguson', 'Craig Robinson', 'Craig T. Nelson', 'Craig Van Hook', 'Crispin Glover', 'Cush Jumbo', 'Cynthia Nixon', \"Da'Vone McDonald\", 'Daisy Ridley', 'Dakota Blue Richards', 'Dakota Fanning', 'Dakota Goyo', 'Dakota Johnson', 'Dale Dickey', 'Dalia Hernández', 'Damaine Radcliff', 'Damien Marzette', 'Damon Wayans Jr.', 'Dan Byrd', 'Dan Crisafulli', 'Dan Fogler', 'Dan Stevens', 'Dana Fuchs', 'Dane Cook', 'Dane DeHaan', 'Daniel Brühl', 'Daniel Craig', 'Daniel Day-Lewis', 'Daniel Eric Gold', 'Daniel Fathers', 'Daniel Franzese', 'Daniel Giménez Cacho', 'Daniel Henshall', 'Daniel Olbrychski', 'Daniel Radcliffe', 'Daniel Zovatto', 'Daniella Kertesz', 'Danielle Nicolet', 'Danielle Panabaker', 'Danila Kozlovsky', 'Danny DeVito', 'Danny Glover', 'Danny Huston', 'Danny McBride', 'Danny Sapani', 'Danny Trejo', 'Darsheel Safary', 'Darío Grandinetti', 'Dave Bautista', 'Dave Franco', 'Dave Johns', 'David Acord', 'David Arquette', 'David Denman', 'David Harbour', 'David James', 'David Lyons', 'David Morse', 'David Oyelowo', 'David Spade', 'David Strathairn', 'David Thewlis', 'David Troughton', 'David Wenham', 'Dax Flame', 'Dax Shepard', \"De'Shawn Washington\", 'Dean Mumford', 'Dean Norris', 'Dean Waite', 'Deanna Dunagan', 'Deborah Kara Unger', 'Demi Moore', 'Demián Bichir', 'Denis Leary', 'Dennis Quaid', 'Denzel Washington', 'Derek Jacobi', 'Derek Jeter', 'Derek Luke', 'Derek Mears', 'Dermot Mulroney', 'Dev Patel', 'Devon Bostick', 'Diane Kruger', 'Diane Lane', 'Dianna Agron', 'Dick Van Dyke', 'Diego Boneta', 'Diego Klattenhoff', 'Diego Luna', 'Dieter Laser', 'Djimon Hounsou', 'Do-won Kwak', 'Dolph Lundgren', 'Domhnall Gleeson', 'Dominic Cooper', 'Dominic Monaghan', 'Dominic West', 'Dominique Abel', 'Dominique McElligott', 'Dominique Swain', 'Dominique Tipper', 'Don Cheadle', 'Don Thompson', 'Donald Sutherland', 'Dong-seok Ma', 'Donna Murphy', 'Donnie Yen', 'Doona Bae', 'Doug Jones', 'Dougie McConnell', 'Douglas M. Griffin', 'Drew Barrymore', 'Drew Seeley', 'Duan Sanderson', 'Dulé Hill', 'Duncan Duff', 'Duncan Joiner', 'Dustin Hoffman', 'Dwayne Johnson', 'Dylan Duffus', 'Dylan Minnette', \"Dylan O'Brien\", 'Ed Harris', 'Ed Helms', \"Ed O'Neill\", 'Ed Oxenbould', 'Ed Skrein', 'Eddie Baroo', 'Eddie Izzard', 'Eddie Marsan', 'Eddie Murphy', 'Eddie Redmayne', 'Edgar Ramírez', 'Edie Falco', 'Edith Scob', 'Edoardo Leo', 'Edward Asner', 'Edward Norton', 'Edwin Wright', 'Elena Anaya', 'Eli Roth', 'Elijah Smith', 'Elijah Wood', 'Elisabeth Moss', 'Elisabeth Shue', 'Elissa Knight', 'Elizabeth Banks', 'Elizabeth Berrington', 'Elizabeth Debicki', 'Elizabeth Gracen', 'Elizabeth Henstridge', 'Elizabeth Mitchell', 'Elizabeth Olsen', 'Elizabeth Reaser', 'Ella Anderson', 'Ella Rumpf', 'Ellar Coltrane', 'Elle Fanning', 'Ellen Burstyn', 'Ellen DeGeneres', 'Ellen Page', 'Ellie Kemper', 'Ellie Kendrick', 'Eloise Mumford', 'Emayatzy Corinealdi', 'Emile Hirsch', 'Emilia Clarke', 'Emilie de Ravin', 'Emily Baldoni', 'Emily Blunt', 'Emily Browning', 'Emily Meade', 'Emily Mortimer', 'Emily Ratajkowski', 'Emma Bell', 'Emma Booth', 'Emma Fitzpatrick', 'Emma Greenwell', 'Emma Roberts', 'Emma Stone', 'Emma Thompson', 'Emma Watson', 'Emmanuel Garijo', 'Emmanuelle Chriqui', 'Emmanuelle Riva', 'Emmy Rossum', 'Emory Cohen', 'Eric Bana', 'Eric Godon', 'Eric Stonestreet', 'Eric Winter', 'Erika Linder', 'Erin Moriarty', 'Ernst Stötzner', 'Essie Davis', 'Ethan Hawke', 'Ethan Suplee', 'Eva Green', 'Eva Mendes', 'Evan Rachel Wood', 'Evangeline Lilly', 'Eve', 'Eve Lindley', 'Ewa Fröling', 'Ewan McGregor', 'Ewen Leslie', 'Ezra Miller', 'F. Murray Abraham', 'Faith Wladyka', 'Famke Janssen', 'Farid Sajjadi Hosseini', 'Fatima Sana Shaikh', 'Felicity Jones', 'Ferdia Walsh-Peelo', 'Filip Berg', 'Fiona Gordon', \"Fionn O'Shea\", 'Florence Clery', 'Florence Kastriner', 'Florence Pugh', 'Forest Whitaker', 'Fran Kranz', \"Frances O'Connor\", 'Francesc Albiol', 'Frank Grillo', 'Frank Langella', 'Frank Madigan', 'François Cluzet', 'Fred Dalton Thompson', 'Fred Willard', 'Freddie Crowder', 'Freddie Highmore', 'Freddy Rodríguez', 'Freida Pinto', 'Gabourey Sidibe', 'Gabriel Basso', 'Gabriel Bateman', 'Gabriel Byrne', 'Gabriel Chavarria', 'Gabriel Luna', 'Gabriela Lopez', 'Gabriella Wilde', 'Gaby Hoffmann', 'Gael García Bernal', 'Gal Gadot', 'Garance Marillier', 'Garret Dillahunt', 'Garrett Clayton', 'Garrett Hedlund', 'Garrett M. Brown', 'Gary Cole', 'Gary Oldman', 'Gaspard Schlatter', 'Gattlin Griffith', 'Gedeon Burkhard', 'Gemma Arterton', 'Gemma Jones', 'Gemma Ward', 'Genesis Rodriguez', 'Geoffrey Arend', 'Geoffrey Rush', 'George Clooney', 'George Lopez', 'George MacKay', 'Gerard Butler', 'Gerardo Taracena', 'Gerry Bednob', 'Gian Keys', 'Giancarlo Esposito', 'Gil Birmingham', 'Gillian Jacobs', 'Gina Carano', 'Ginnifer Goodwin', 'Giovanni Ribisi', 'Giuseppe Battiston', 'Glenn Close', 'Golshifteh Farahani', 'Grace Van Patten', 'Graham McTavish', 'Graham Skipper', 'Greg Kinnear', 'Gregg Weiner', 'Gregory Jones', 'Greta Gerwig', 'Gretchen Mol', 'Gugu Mbatha-Raw', 'Guillaume Baillargeon', 'Guy Pearce', 'Gwyneth Paltrow', 'Hae-il Park', 'Hailee Steinfeld', 'Haley Bennett', 'Haley Joel Osment', 'Haley Lu Richardson', 'Halle Berry', 'Hans Matheson', 'Harley Quinn Smith', 'Harold Perrineau', 'Harrison Ford', 'Harry Connick Jr.', 'Harvey Keitel', 'Hayden Christensen', 'Hayden Panettiere', 'Hayley Atwell', 'Hayley McElhinney', 'Hayley Squires', 'Heath Ledger', 'Heather Matarazzo', 'Heather Sossaman', 'Hee-Bong Byun', 'Helen Mirren', 'Helena Bonham Carter', 'Henry Cavill', 'Henry Thomas', 'Hermione Corfield', 'Hilary Swank', 'Hiroki Hasegawa', 'Hristos Passalis', 'Hugh Grant', 'Hugh Jackman', 'Hugh Laurie', 'Hugo Weaving', 'Hunter McCracken', 'Iain Glen', 'Ian Holm', 'Ian McKellen', 'Ian McShane', 'Ice Cube', 'Ida Engvoll', 'Idina Menzel', 'Idris Elba', 'Ike Barinholtz', 'Imelda Staunton', 'Imogen Poots', 'India Eisley', 'Iris Apatow', 'Irrfan Khan', 'Isabel Lucas', 'Isabella Rossellini', 'Isabelle Fuhrman', 'Isabelle Huppert', 'Isabelle Nélisse', 'Isaiah Stone', 'Isla Fisher', 'Israel Broussard', 'Ivana Baquero', 'Ivo Nandi', 'J. Todd Smith', 'J.K. Simmons', 'Jack Black', 'Jack Davenport', 'Jack Holden', 'Jack Huston', 'Jack Madigan', 'Jack McBrayer', 'Jack Nicholson', \"Jack O'Connell\", 'Jack Reynor', 'Jack Taylor', 'Jacki Weaver', 'Jackie Chan', 'Jackie Earle Haley', 'Jackson Rathbone', 'Jacob Latimore', 'Jacob Tremblay', 'Jade Asha', 'Jaden Smith', 'Jae Head', 'Jael Elizabeth Steinmeyer', 'Jahking Guillory', 'Jai Courtney', 'Jaime Winstone', 'Jake Abel', 'Jake Gyllenhaal', 'Jake Johnson', 'Jalil Lespert', 'Jamal Woolard', 'James Allen McCune', 'James Badge Dale', 'James Cosmo', 'James DuMont', 'James Floyd', 'James Franco', 'James Frecheville', 'James Gandolfini', 'James Hamrick', 'James Kelley', 'James Marsden', 'James Marsters', 'James McAvoy', 'James Ransone', 'James Russell', 'Jamie Bell', 'Jamie Blackley', 'Jamie Campbell Bower', 'Jamie Chung', 'Jamie Dornan', 'Jamie Foxx', 'Jan Cornet', 'Jane Fonda', 'Jane Levy', 'Jane Lynch', 'Janelle Monáe', 'Janet McTeer', 'Janet Montgomery', 'January Jones', 'Jared Gilman', 'Jared Harris', 'Jared Leto', 'Jared Padalecki', 'Jasmine Trinca', 'Jason Barry', 'Jason Bateman', 'Jason Biggs', 'Jason Clarke', 'Jason Cope', 'Jason Flemyng', 'Jason Isaacs', 'Jason Mitchell', 'Jason Momoa', \"Jason O'Mara\", 'Jason Schwartzman', 'Jason Segel', 'Jason Statham', 'Jason Sudeikis', 'Jasper Newell', 'Javier Bardem', 'Jay Baruchel', 'Jean Reno', 'Jean-Claude Van Damme', 'Jeff Branson', 'Jeff Bridges', 'Jeff Daniel Phillips', 'Jeff Daniels', 'Jeff Garlin', 'Jeff Goldblum', 'Jeff Kahn', 'Jeffrey Dean Morgan', 'Jeffrey Vincent Parise', 'Jeffrey Wright', 'Jelena Gavrilovic', 'Jemaine Clement', 'Jemima West', 'Jena Malone', 'Jenna Dewan Tatum', 'Jenna Elfman', 'Jennette McCurdy', 'Jennifer Aniston', 'Jennifer Connelly', 'Jennifer Ehle', 'Jennifer Garner', 'Jennifer Jason Leigh', 'Jennifer Koenig', 'Jennifer Lawrence', 'Jennifer Lopez', 'Jennifer Morrison', 'Jennifer Saunders', 'Jenny Slate', 'Jeremy Davies', 'Jeremy Irons', 'Jeremy Irvine', 'Jeremy McWilliams', 'Jeremy Renner', 'Jerry Ferrara', \"Jerry O'Connell\", 'Jerry Stiller', 'Jesse Borrego', 'Jesse Bradford', 'Jesse Eisenberg', 'Jesse Plemons', 'Jessica Alba', 'Jessica Barden', 'Jessica Barth', 'Jessica Biel', 'Jessica Brown Findlay', 'Jessica Chastain', 'Jessica Lange', 'Jessica Lucas', 'Jessica Sula', 'Jessica Vanessa DeLeon', 'Jessie Ok Gray', 'Jet Li', 'Ji-min Han', 'Jim Broadbent', 'Jim Carrey', 'Jim Caviezel', 'Jim Norton', 'Jim Parsons', 'Jim Sturgess', 'Jin-woong Jo', 'Jo Hartley', 'Joan Allen', 'Joan Cusack', 'Joanne Froggatt', 'Joaquin Phoenix', 'Jocelin Donahue', 'Jodie Foster', 'Joe Alwyn', 'Joe Anderson', 'Joe Blakemore', 'Joe Cobden', 'Joe Manganiello', 'Joel Courtney', 'Joel David Moore', 'Joel Edgerton', 'Joel Kinnaman', 'Joel McHale', 'Joely Richardson', 'Joey Lauren Adams', 'Joey Morgan', 'John Alexander', 'John Boyega', 'John C. McGinley', 'John C. Reilly', 'John Carroll Lynch', 'John Corbett', 'John Cullum', 'John Cusack', \"John D'Leo\", 'John DeLuca', 'John Doman', 'John Francis Daley', 'John Gallagher Jr.', 'John Goodman', 'John Hawkes', 'John Hodgman', 'John Hurt', 'John Krasinski', 'John Leguizamo', 'John Malkovich', 'John Ortiz', 'John Ratzenberger', 'John Travolta', 'John Turturro', 'Johnny Depp', 'Johnny Simmons', 'Jon Bernthal', 'Jon Daly', 'Jon Favreau', 'Jon Hamm', 'Jon Voight', 'Jonah Hill', 'Jonathan Daniel Brown', 'Jonathan Groff', 'Jonathan Rhys Meyers', 'Jonathan Roumie', 'Jonny Brugh', 'Jonny Weston', 'Jordan Carlos', 'Jordan Nagai', 'Jordan Peele', 'Jordana Brewster', 'Jordi Mollà', 'Jorge Garcia', 'Jorma Taccone', 'Josef Altin', 'Joseph Fiennes', 'Joseph Gordon-Levitt', 'Joseph Julian Soria', 'Joseph Mawle', 'Josh Brener', 'Josh Brolin', 'Josh Duhamel', 'Josh Gad', 'Josh Hartnett', 'Josh Hutcherson', 'Josh Lucas', 'Josh Peck', 'Josh Stewart', 'Josh Wiggins', 'Joshua Leonard', 'Joshua McIvor', 'José Coronado', 'Jovan Adepo', 'Juan Saavedra', 'Judah Lewis', 'Jude Law', 'Judi Dench', 'Judy Davis', 'Judy Greer', 'Julia Ormond', 'Julia Roberts', 'Julia Stiles', 'Julian Barratt', 'Julian Dennison', 'Julian Richings', 'Julian Vergov', 'Julianna Margulies', 'Julianne Hough', 'Julianne Moore', 'Julie Andrews', 'Julie Benz', 'Julie Walters', 'Juliet Rylance', 'Jun Kunimura', 'Jung-min Hwang', 'Jung-woo Ha', 'Juno Temple', 'Justice Smith', 'Justin Bartha', 'Justin Chatwin', 'Justin Chon', 'Justin Long', 'Justin Theroux', 'Justin Timberlake', 'Justine Waddell', 'Kagiso Kuypers', 'Kai Ryssdal', 'Kaitlin Olson', 'Kang-ho Song', 'Kara Hayward', 'Karel Hermánek Jr.', 'Karen Allen', 'Karen Disher', 'Karen Gillan', 'Karen Moskow', 'Kari Matchett', 'Karin Konoval', 'Karl Glusman', 'Karl Markovics', 'Karl Urban', 'Karolina Gruszka', 'Karrueche Tran', 'Kat Dennings', 'Kate Beckinsale', 'Kate Bosworth', 'Kate Dickie', 'Kate Hudson', 'Kate Mara', 'Kate McKinnon', 'Kate Siegel', 'Kate Upton', 'Kate Winslet', 'Katee Sackhoff', 'Katey Sagal', 'Katherine Heigl', 'Katherine Reis', 'Katherine Waterston', 'Kathleen Munroe', 'Kathleen Quinlan', 'Kathryn Hahn', 'Kathy Baker', 'Kathy Bates', 'Kati Outinen', 'Katie Cassidy', 'Katie Crown', 'Katie Holmes', 'Katy Barker', 'Kay Whitney', 'Kaya Scodelario', 'Keanu Reeves', 'Keegan-Michael Key', 'Keir Gilchrist', 'Keira Knightley', 'Keith Carradine', 'Keith David', 'Kelcey Watson', 'Kelly Adams', 'Kelly Macdonald', 'Kelly McGillis', 'Kelly Reilly', 'Kelsey Grammer', 'Ken Stott', 'Ken Watanabe', 'Kenneth Branagh', 'Kenneth Welsh', 'Kenny Wormald', 'Kenshô Ono', 'Keri Russell', 'Kerry Bishé', 'Kerry Washington', 'Kevin Bacon', 'Kevin Chamberlin', 'Kevin Connolly', 'Kevin Costner', 'Kevin Dillon', 'Kevin Hart', 'Kevin James', 'Kevin Kline', 'Kevin Leslie', 'Kevin McKidd', 'Kevin Nealon', 'Kevin Spacey', 'Kiefer Sutherland', 'Kieran Culkin', 'Kiernan Shipka', 'Kiersey Clemons', 'Kim Cattrall', 'Kim Coates', 'Kim Uylenbroek', 'Kimberly Elise', 'Kirby Bliss Blanton', 'Kirsten Dunst', 'Kit Harington', 'Klara Kristin', 'Kodi Smit-McPhee', 'Kofi Siriboe', 'Kristen Bell', 'Kristen Connolly', 'Kristen Stewart', 'Kristen Wiig', 'Kristin Chenoweth', 'Kristin Davis', 'Kristin Scott Thomas', 'Ksenia Solo', 'Kunal Kapoor', 'Kurt Fuller', 'Kurt Russell', 'Kyle Chandler', 'Kyle Gallner', 'Kylie Rogers', 'Kyra Sedgwick', 'Laine Megaw', 'Lainie Kazan', 'Lake Bell', 'Lambert Wilson', 'Lara Pulver', 'Larenz Tate', 'Larry the Cable Guy', 'Lars Eidinger', 'Lasse Fogelstrøm', 'Laura Abramsen', 'Laura Allen', 'Laura Dern', 'Laura Linney', 'Laura Ramsey', 'Laura Waddell', 'Lauren Birkell', 'Lauren Cohan', 'Lauren German', 'Lauren Graham', 'Lauren Holly', 'Laurence Fishburne', 'Laurence Leboeuf', 'Laurent Lafitte', 'Laurent Lucas', 'Laurie Holden', 'Lee Pace', 'Leehom Wang', 'Leland Orser', 'Lena Endre', 'Lena Headey', 'Leonard Nimoy', 'Leonardo DiCaprio', 'Lesley Manville', 'Leslie Bibb', 'Leslie Jones', 'Leslie Mann', 'Levi Miller', 'Lewis Black', 'Lewis MacDougall', 'Lia Bugnar', 'Lia Marie Johnson', 'Liam Hemsworth', 'Liam McMahon', 'Liam Neeson', 'Liana Liberato', 'Liev Schreiber', 'Lili Sepe', 'Lili Taylor', 'Lily Cole', 'Lily Collins', 'Lily James', 'Lily Rabe', 'Lily-Rose Depp', 'Lin Shaye', 'Linda Cardellini', 'Linda Gegusch', 'Linh Dan Pham', 'Lior Ashkenazi', 'Lisa Kudrow', 'Lisa Thoreson', 'Liv Tyler', 'Lizzy Caplan', 'Logan Huffman', 'Logan Lerman', 'Logan Marshall-Green', 'Logan Miller', 'Logan Paul', 'Lorenza Izzo', 'Lori Petty', 'Lorraine Nicholson', 'Lorraine Toussaint', 'Lou Romano', 'Lou Taylor Pucci', 'Louis C.K.', 'Loïs van Wijk', 'Lubna Azabal', 'Lucas Black', 'Lucas Hedges', 'Lucas Till', 'Lucy Boynton', 'Lucy Fry', 'Lucy Hale', 'Lucy Liu', 'Lucy Walters', 'Luing Andrews', 'Lukas Hassel', 'Luke Bracey', 'Luke Evans', 'Luke Kleintank', 'Luke Treadaway', 'Luke Wilson', 'Lulu Wilson', \"Lupita Nyong'o\", 'Lydia Wilson', 'Lyndsy Fonseca', 'Lynn Collins', 'Lynsey Taylor Mackay', 'Léa Seydoux', 'Mackenzie Foy', 'Maddie Ziegler', 'Maddy Curley', 'Madeleine West', 'Madhavan', 'Madina Nalwanga', 'Madison Wolfe', 'Mads Mikkelsen', 'Mae Whitman', 'Maggie Grace', 'Maggie Gyllenhaal', 'Maggie Q', 'Mahershala Ali', 'Maika Monroe', 'Malcolm McDowell', 'Malcolm Sinclair', 'Malin Akerman', 'Malina Manovici', 'Mandy Gonzalez', 'Mandy Moore', 'Marcia Gay Harden', 'Marco Giallini', 'Margarita Levieva', 'Margot Robbie', 'Maria Bello', 'Maria Dizzia', 'Maria Doyle Kennedy', 'Maria-Victoria Dragus', 'Mariah Carey', 'Maribel Verdú', 'Marie Gruber', 'Marilyn Manson', 'Mario Casas', 'Marion Cotillard', 'Marisa Paredes', 'Mark Boone Junior', 'Mark Chao', 'Mark Consuelos', 'Mark Huberman', 'Mark Ruffalo', 'Mark Rylance', 'Mark Strong', 'Mark Wahlberg', 'Marley Shelton', 'Marlon Wayans', 'Martin Freeman', 'Martin Henderson', 'Martin Kabanza', 'Martin McCann', 'Martin Stringer', 'Martina Gedeck', 'Marton Csokas', 'Mary Elizabeth Winstead', 'Mary McCormack', 'Mary Steenburgen', 'Mary-Louise Parker', 'María Marull', 'Mason Lee', 'Mateo Arias', 'Mathieu Amalric', 'Matt Bomer', 'Matt Damon', 'Matt Lanter', 'Matt Long', 'Matt Vael', 'Matthew Bohrer', 'Matthew Fox', 'Matthew Goode', 'Matthew Macfadyen', 'Matthew Marsden', 'Matthew McConaughey', 'Matthew Morrison', 'Matthew Perry', 'Matthew Zuk', 'Matthias Schoenaerts', 'Maude Apatow', 'Mauricio Lopez', 'Maury Sterling', 'Max Burkholder', 'Max Greenfield', 'Max Irons', 'Max Martini', 'Max Minghella', 'Max von Sydow', 'Maxim Gaudette', 'Maya Rudolph', 'Mayko Nguyen', 'McCaul Lombardi', 'Meagan Good', 'Megan Charpentier', 'Megan Fox', 'Megan Park', 'Mel Gibson', 'Mel Raido', 'Melanie Lynskey', 'Melissa Benoist', 'Melissa George', 'Melissa Leo', 'Melissa McCarthy', 'Meredith Hagner', 'Meryl Streep', 'Method Man', 'Mia Goth', 'Mia Stallard', 'Mia Wasikowska', 'Michael B. Jordan', 'Michael C. Hall', 'Michael Caine', 'Michael Cera', 'Michael Chiklis', 'Michael Constantine', 'Michael Dickson', 'Michael Doneger', 'Michael Dorman', 'Michael Douglas', 'Michael Ealy', 'Michael Fassbender', 'Michael Gambon', 'Michael Ironside', 'Michael Keaton', 'Michael Kelly', 'Michael Kenneth Williams', 'Michael Mantell', 'Michael McDonald', 'Michael McElhatton', 'Michael Nyqvist', 'Michael Parks', 'Michael Peña', 'Michael Pitt', 'Michael Rooker', 'Michael Shannon', 'Michael Sheen', 'Michael Stuhlbarg', 'Michael Trucco', 'Michael Vartan', 'Michael Wittenborn', 'Michael Yare', 'Michal Vondel', 'Michel Vuillermoz', 'Michele Valley', 'Michelle Monaghan', 'Michelle Pfeiffer', 'Michelle Rodriguez', 'Michelle Williams', 'Michelle Yeoh', 'Michiel Huisman', 'Mickey Rourke', 'Mike Birbiglia', 'Mike Vogel', 'Mila Kunis', 'Miles Fisher', 'Miles Heizer', 'Miles Teller', 'Milla Jovovich', 'Milo Ventimiglia', 'Min-hee Kim', 'Min-sik Choi', 'Mindy Kaling', 'Mira Sorvino', 'Miranda Cosgrove', 'Mireille Enos', 'Miyavi', 'Miyu Irino', \"Mo'Nique\", 'Moe Dunford', 'Mohamed Akhzam', 'Moises Arias', 'Moisés Acevedo', 'Molly Ringwald', 'Momo Dione', 'Mona Singh', 'Mone Kamishiraishi', 'Moon Bloodgood', 'Morena Baccarin', 'Morgan Freeman', 'Morgan Lily', 'Morgan Saylor', 'Morjana Alaoui', 'Munro Chambers', 'Mustafa Kamel', 'Mykelti Williamson', 'Mylène Jampanoï', 'Mélanie Laurent', 'Mélissa Désormeaux-Poulin', 'Mónica Villa', 'Nadia White', 'Nadine Velazquez', 'Nancy Kwan', 'Naomi Ackie', 'Naomi Battrick', 'Naomi Watts', 'Naomie Harris', 'Nat Wolff', 'Natalie Krill', 'Natalie Martinez', 'Natalie Portman', 'Natascha McElhone', 'Natasha Henstridge', 'Nathalie Baye', 'Nathalie Boltt', 'Nathan Fillion', 'Nathan Phillips', 'Nazanin Boniadi', 'Ned Beatty', 'Neel Sethi', 'Neil Brown Jr.', 'Neil Flynn', 'Neil Patrick Harris', 'Nellie', 'Neve Campbell', 'Ni Ni', 'Nia Vardalos', 'Nicholas Braun', 'Nicholas Brendon', \"Nicholas D'Agosto\", 'Nicholas Galitzine', 'Nicholas Hope', 'Nicholas Hoult', 'Nick Damici', 'Nick Frost', 'Nick Krause', 'Nick Nolte', 'Nick Offerman', 'Nick Robinson', 'Nick Swardson', 'Nicola Peltz', 'Nicolas Cage', 'Nicole Beharie', 'Nicole Kidman', 'Nicole Parker', 'Nikki Blonsky', 'Nikki SooHoo', 'Niko Nicotera', 'Nikolaj Coster-Waldau', 'Nina Dobrev', 'Noah Ringer', 'Noah Taylor', 'Noah Wiseman', 'Noel Fisher', 'Noomi Rapace', \"O'Shea Jackson Jr.\", 'Oakes Fegley', 'Oaklee Pendergast', 'Octavia Spencer', 'Odeya Rush', 'Olan Rogers', 'Olga Kurylenko', 'Oliver Cooper', 'Oliver Platt', 'Olivia Colman', 'Olivia Cooke', 'Olivia DeJonge', 'Olivia Luccardi', 'Olivia Moyles', 'Olivia Munn', 'Olivia Thirlby', 'Olivia Wilde', 'Olivia Williams', 'Omar Sy', 'Oona Chaplin', 'Oona Laurence', 'Ophelia Lovibond', 'Oprah Winfrey', 'Orlando Bloom', 'Orto Ignatiussen', 'Oscar Isaac', 'Osric Chau', 'Owen Wilson', 'Pablo Rago', 'Pablo Schreiber', 'Paddy Considine', 'Pat Cashman', 'Patricia Arquette', 'Patricia Clarkson', 'Patrick Dempsey', 'Patrick Huard', 'Patrick Stewart', 'Patrick Wilson', 'Patton Oswalt', 'Paul Anderson', 'Paul Bettany', 'Paul Birchard', 'Paul Borghese', 'Paul Dano', 'Paul Giamatti', 'Paul Newman', 'Paul Reiser', 'Paul Rudd', 'Paul Sidhu', 'Paul Walker', 'Paula Beer', 'Paula Patton', 'Paula Prentiss', 'Paulin Jaccoud', 'Penelope Wilton', 'Penn Badgley', 'Penélope Cruz', 'Peter Dinklage', 'Peter Facinelli', 'Peter McRobbie', 'Peter Riegert', 'Peter Sarsgaard', 'Peter Simonischek', 'Peter Stormare', 'Peyton List', 'Philip Seymour Hoffman', 'Phylicia Rashad', 'Pierce Brosnan', 'Pierre Coffin', 'Pierre Niney', 'Pierre Richard', 'Portia Doubleday', 'Prabhas', 'Priyanka Moodley', 'Queen Latifah', 'Quinton Aaron', 'Quvenzhané Wallis', 'RJ Cyler', 'Rabah Nait Oufella', 'Rachael Blake', 'Rachael Harris', 'Rachel Bilson', 'Rachel Blanchard', 'Rachel Dratch', 'Rachel House', 'Rachel Korine', 'Rachel McAdams', 'Rachel Quinn', 'Rachel Weisz', 'Rachel Wood', 'Radha Mitchell', 'Raffey Cassidy', 'Raghuvir Joshi', 'Rainn Wilson', 'Ralph Fiennes', 'Ralph Ineson', 'Rana Daggubati', 'Randall Park', 'Randy Couture', 'Raoul Max Trujillo', 'Rasmus Hardiker', 'Ray Romano', 'Ray Stevenson', 'Ray Winstone', 'Rebecca Ferguson', 'Rebecca Hall', 'Rebel Wilson', 'Reese Witherspoon', 'Regina Hall', 'Reiko Aylesworth', 'Ren Ôsugi', 'Rene Russo', 'Renée Zellweger', 'Rhona Mitra', 'Rhys Ifans', 'Ricardo Darín', 'Riccardo Scamarcio', 'Richard Armitage', 'Richard Brake', 'Richard Dreyfuss', 'Richard Garcia', 'Richard Gere', 'Richard Jenkins', 'Richard Kind', 'Richard Madden', 'Richenda Carey', 'Rick Gonzalez', 'Rihanna', 'Rila Fukushima', 'Riley Keough', 'Riley Thomas Stewart', 'Rima Te Wiata', 'Rinko Kikuchi', 'Rip Torn', 'Rita Cortese', 'Riz Ahmed', 'Rizwan Manji', 'Rob Corddry', 'Rob Riggle', 'Robbie Amell', 'Robert Capron', 'Robert Carlyle', 'Robert De Niro', 'Robert Downey Jr.', 'Robert Duvall', 'Robert Hoffman', 'Robert Knepper', 'Robert Patrick', 'Robert Pattinson', 'Robert Redford', 'Robert Sheehan', 'Robert Toupin', 'Robin Williams', 'Robin Wright', 'Rodrigo Santoro', 'Roger Bart', 'Rolf Lassgård', 'Romain Duris', 'Roman Jossart', 'Roman Kolinka', 'Ron Livingston', 'Ron Perlman', 'Ronnie Gene Blevins', 'Rooney Mara', 'Rory Cochrane', 'Rory J. Saper', 'Rosamund Pike', 'Rosario Dawson', 'Rose Byrne', 'Rose Leslie', 'Rose McGowan', 'Rosemarie DeWitt', 'Rosie Huntington-Whiteley', 'Rosie Shaw', 'Ross Kimball', 'Rostislav Bershauer', 'Rotimi', 'Ruby Barnhill', 'Rubén Blades', 'Rudy Youngblood', 'Rufus Sewell', 'Rupert Evans', 'Rupert Friend', 'Rupert Grint', 'Russell Brand', 'Russell Crowe', 'Ruta Gedmintas', 'Ruth Negga', 'Ruth Wilson', 'Ryan Gosling', 'Ryan Guzman', 'Ryan Lee', 'Ryan Potter', 'Ryan Reynolds', 'Ryoko Seta', 'Ryô Narita', 'Ryûnosuke Kamiki', 'Sacha Baron Cohen', 'Sachet Engineer', 'Sakshi Tanwar', 'Salim Kechiouche', 'Salli Richardson-Whitfield', 'Sally Field', 'Sally Hawkins', 'Sally Phillips', 'Salma Hayek', 'Sam Claflin', 'Sam Elliott', 'Sam Neill', 'Sam Quartin', 'Sam Riley', 'Sam Rockwell', 'Sam Shepard', 'Sam Trammell', 'Sam Worthington', 'Samantha Isler', 'Samantha Morton', 'Samantha Robinson', 'Samantha Sloyan', 'Samuel L. Jackson', 'Sandra Bullock', 'Sandra Hüller', 'Sandra Kinder', 'Sanjay Dutt', 'Sanjeev Bhaskar', 'Sanya Malhotra', 'Saoirse Ronan', 'Saori Hayami', 'Sarah Butler', 'Sarah Clarke', 'Sarah Dumont', 'Sarah Gadon', 'Sarah Hyland', 'Sarah Jessica Parker', 'Sarah Paulson', 'Sarah Polley', 'Sarah Roemer', 'Sarah Silverman', 'Sarah Snook', 'Sarita Choudhury', 'Sasha Lane', 'Satomi Ishihara', 'Saurabh Shukla', 'Scarlett Johansson', 'Scorcher', 'Scott Adkins', 'Scott Adsit', 'Scott Eastwood', 'Scott Glenn', 'Scott Lawrence', 'Scott Mescudi', 'Scott Speedman', 'Sean Bean', 'Sean Bott', 'Sean Bridgers', 'Sean Faris', 'Sean Patrick Thomas', 'Sean Penn', 'Seann William Scott', 'Sebastian Koch', 'Sebastian Pigott', 'Sebastian Stan', 'Selena Gomez', 'Selma Blair', 'Sergej Trifunovic', 'Sergi López', 'Seth MacFarlane', 'Seth Rogen', 'Seychelle Gabriel', 'Shad Moss', 'Shah Rukh Khan', 'Shahab Hosseini', 'Shailene Woodley', 'Shameik Moore', 'Shannon Woodward', 'Shareeka Epps', 'Shariff Earp', 'Sharlto Copley', 'Sharman Joshi', 'Sharon Percy', 'Shawn Roberts', 'Shea Adams', 'Sheila Kelley', 'Shelley Hennig', 'Sheri Moon Zombie', 'Shia LaBeouf', 'Shiloh Fernandez', 'Shone Romulus', 'Sienna Guillory', 'Sienna Miller', 'Sigourney Weaver', 'Sigrid Bouaziz', 'Simon Cotton', 'Simon Helberg', 'Simon Pegg', 'Simona Stasová', 'Sixtine Murat', 'Skyler Gisondo', 'Slobodan Bestic', 'So-ri Moon', \"Sofia Black-D'Elia\", 'Soledad Villamil', 'Sonoya Mizuno', 'Soo-an Kim', 'Sophie Nélisse', 'Sophie Okonedo', 'Sophie Perry', \"Srdjan 'Zika' Todorovic\", 'Stacy Martin', 'Stanley Tucci', 'Steele Stebbins', 'Stellan Skarsgård', 'Stephen Curry', 'Stephen Dorff', 'Stephen Henderson', 'Stephen Lang', 'Stephen Merchant', 'Stephen Moyer', 'Stephen Rea', 'Steve Buscemi', 'Steve Carell', 'Steve Coogan', 'Steve Lantz', 'Steve Martin', 'Steve Oram', 'Steve Tom', 'Steve Wiebe', 'Steve Zahn', 'Steven Krueger', 'Steven Mackintosh', 'Steven Pasquale', 'Steven Yeun', 'Storm Acheche Sahlstrøm', 'Storm Reid', 'Stuart Graham', 'Su Elliot', 'Sue Dahlman', 'Sullivan Stapleton', 'Sunny Pawar', 'Suraj Sharma', 'Susan Loughnane', 'Susan Sarandon', 'Susie Porter', 'Suzanne Clément', 'Sylvester Stallone', 'Sylvia Hoeks', 'T.I.', 'T.J. Miller', 'T.R. Knight', 'Tabu', 'Tadanobu Asano', 'Taika Waititi', 'Taissa Farmiga', 'Tamannaah Bhatia', 'Tammy Blanchard', 'Tanay Chheda', 'Tangie Ambrose', 'Tania Raymonde', 'Tao Okamoto', 'Taraji P. Henson', 'Taraneh Alidoosti', 'Taron Egerton', 'Tatiana Pauhofová', 'Taylor Kitsch', 'Taylor Lautner', 'Taylor Schilling', 'Taylor Swift', 'Ted Levine', 'Temuera Morrison', 'Teodora Duhovnikova', 'Terence Stamp', 'Teresa Navarro', 'Teresa Palmer', 'Teri Hatcher', 'Terrence Howard', 'Terry Chen', 'Terry Crews', 'Tessa Thompson', 'Teyonah Parris', 'Thandie Newton', 'Theo James', 'Theo Rossi', 'Thomas Bo Larsen', 'Thomas Brodie-Sangster', 'Thomas Haden Church', 'Thomas Jane', 'Thomas Lennon', 'Thomas Loibl', 'Thomas M. Wright', 'Thomas Mann', 'Thomas Middleditch', 'Tian Jing', 'Tiffany Haddish', 'Tijuana Ricks', 'Til Schweiger', 'Tilda Swinton', 'Tim Allen', 'Tim Blake Nelson', 'Tim McGraw', 'Tim Pigott-Smith', 'Tim Roth', 'Timothy Olyphant', 'Timothy Spall', 'Tina Fey', 'Tobey Maguire', 'Tobias Menzies', 'Toby Jones', 'Toby Kebbell', 'Tom Costello', 'Tom Cruise', 'Tom Cullen', 'Tom Felton', 'Tom Hanks', 'Tom Hardy', 'Tom Hiddleston', 'Tom Holland', 'Tom Hudson', 'Tom Hughes', 'Tom Mison', 'Tom Prior', 'Tom Sizemore', 'Tom Wilkinson', 'Tommy Dewey', 'Tommy Lee Jones', 'Toni Collette', 'Tony Amendola', 'Tony Danza', 'Tony Goldwyn', 'Tony Revolori', 'Tony Shalhoub', 'Topher Grace', 'Tracy Letts', 'Travis Fimmel', 'Travis Tope', 'Trenton Rogers', 'Trey Songz', 'Ty Simpkins', 'Tye Sheridan', 'Tyler Hoechlin', 'Tyler James Williams', 'Tyler Perry', 'Tyne Daly', 'Tyrese Gibson', 'Ulrich Mühe', 'Ulrich Tukur', 'Usher Raymond', 'Val Kilmer', 'Valerie Mahaffey', 'Vanessa Ferlito', 'Vanessa Hudgens', 'Vanessa Lachey', 'Vanessa Ross', 'Vera Farmiga', 'Vernetta Lopez', 'Vicky Krieps', 'Victoria Justice', 'Viggo Mortensen', 'Vilen Babichev', 'Vin Diesel', 'Vince Vaughn', 'Vincent Cassel', \"Vincent D'Onofrio\", 'Vincent Ebrahim', 'Vincent Kartheiser', 'Ving Rhames', 'Vinnie Jones', 'Viola Davis', 'Walton Goggins', 'Ward Horton', 'Wei Tang', 'Wendi McLendon-Covey', 'Wendy Crewson', 'Wentworth Miller', 'Wenwen Han', 'Werner Herzog', 'Wes Bentley', 'Wesley Elder', 'Will Arnett', 'Will Dalton', 'Will Ferrell', 'Will Poulter', 'Will Smith', 'Will Yun Lee', 'Willem Dafoe', 'William Atherton', 'William Fichtner', 'William Hurt', 'William Moseley', 'Winona Ryder', 'Woo-hee Chun', 'Woody Allen', 'Woody Harrelson', 'Wyatt Russell', 'Xavier Samuel', 'Yoo Gong', 'Yu-mi Jung', 'Yun-Fat Chow', 'Yutaka Takenouchi', 'Zac Efron', \"Zac Mattoon O'Brien\", 'Zach Galifianakis', 'Zach Grenier', 'Zachary Bennett', 'Zachary Gordon', 'Zachary Levi', 'Zachary Quinto', 'Zachery Ty Bryan', 'Zoe Kazan', 'Zoe Saldana', 'Zoey Deutch', 'Zooey Deschanel', 'Zoë Bell', 'Zoë Kravitz', 'Émilie Leclerc', 'Ólafur Darri Ólafsson', 'Óscar Jaenada']\n"
     ]
    }
   ],
   "source": [
    "### START CODE HERE ###\n",
    "IMDB_data = pd.read_csv(r'IMDB-Movie-Data.csv')\n",
    "actors = []\n",
    "actors =  IMDB_data[\"Actors\"]\n",
    "actors_name = [i.replace(\", \", \",\").split(\",\") for i in actors]\n",
    "actor_name = []\n",
    "for i in actors_name:\n",
    "    actor_name += i\n",
    "movie_in_year = dict(Counter(actor_name))\n",
    "sorted_actors_name = list(sorted(movie_in_year.keys()))\n",
    "print(sorted_actors_name)\n",
    "### END CODE HERE ###"
   ]
  },
  {
   "cell_type": "markdown",
   "metadata": {
    "id": "U8qu6f7d51ur"
   },
   "source": [
    "### Score Histogram\n",
    ">Draw the histogram of metascores and ratings. "
   ]
  },
  {
   "cell_type": "code",
   "execution_count": 591,
   "metadata": {
    "id": "JUf-Jl6T51ur"
   },
   "outputs": [
    {
     "data": {
      "image/png": "[encoded data removed]",
      "text/plain": [
       "<Figure size 432x288 with 1 Axes>"
      ]
     },
     "metadata": {
      "needs_background": "light"
     },
     "output_type": "display_data"
    },
    {
     "data": {
      "image/png": "[encoded data removed]",
      "text/plain": [
       "<Figure size 432x288 with 1 Axes>"
      ]
     },
     "metadata": {
      "needs_background": "light"
     },
     "output_type": "display_data"
    }
   ],
   "source": [
    "### START CODE HERE ###\n",
    "IMDB_data = pd.read_csv(r'IMDB-Movie-Data.csv')\n",
    "metascores = []\n",
    "ratings = []\n",
    "metascores = IMDB_data.iloc[:,11]\n",
    "ratings = IMDB_data.iloc[:,8]\n",
    "size = len(metascores)\n",
    "number_of_bins = int(np.ceil(np.log2(size))+1)\n",
    "plt.hist(metascores, bins=number_of_bins)\n",
    "plt.show()\n",
    "plt1.hist(ratings, bins=number_of_bins)\n",
    "plt1.show()\n",
    "### END CODE HERE ###"
   ]
  },
  {
   "cell_type": "markdown",
   "metadata": {
    "id": "_fD8olon51ur"
   },
   "source": [
    "## Correlations\n",
    ">Calculate the correlation between rating, votes and metascore of the movies.\n",
    "Is there any meaningful relation between these features? "
   ]
  },
  {
   "cell_type": "code",
   "execution_count": 590,
   "metadata": {
    "id": "4Llb2din51ur"
   },
   "outputs": [
    {
     "name": "stdout",
     "output_type": "stream",
     "text": [
      "[[1.         0.51153732]\n",
      " [0.51153732 1.        ]]\n",
      "[[ 1. nan]\n",
      " [nan nan]]\n",
      "[[nan nan]\n",
      " [nan  1.]]\n"
     ]
    }
   ],
   "source": [
    "### START CODE HERE ###\n",
    "IMDB_data = pd.read_csv(r'IMDB-Movie-Data.csv')\n",
    "metascores = []\n",
    "ratings = []\n",
    "votes = []\n",
    "metascores = IMDB_data.iloc[:,11]\n",
    "ratings = IMDB_data.iloc[:,8]\n",
    "votes = IMDB_data.iloc[:,9]\n",
    "correlation_r_v = np.corrcoef(ratings, votes)\n",
    "correlation_r_m = np.corrcoef(ratings, metascores)\n",
    "correlation_m_v = np.corrcoef(metascores, votes)\n",
    "print(correlation_r_v)\n",
    "print(correlation_r_m)\n",
    "print(correlation_m_v)\n",
    "\n",
    "\n",
    "#Is there any meaningful relation between these features?\n",
    "#answer = as expected in correlation matrix indexes in main diameter would be 1 but probably for missing data nan has\n",
    "#        generated in main diameter.as well correlation between rating and votes is ~0.512 which means they have almost \n",
    "#        Direct relationship.\n",
    "#        for missing data nan has generated.\n",
    "\n",
    "### END CODE HERE ###"
   ]
  },
  {
   "cell_type": "markdown",
   "metadata": {
    "id": "kLHzx8KW51ur"
   },
   "source": [
    "# Question 3"
   ]
  },
  {
   "cell_type": "markdown",
   "metadata": {
    "id": "xQMEJJVI51ur"
   },
   "source": [
    "## File\n",
    "> Craet a .txt file and name it \"Name_actors\". You must write the name of all actors/actresses in the IMDB-Movie-Data.csv file. Don't write a name multiple time and write each name in a new line."
   ]
  },
  {
   "cell_type": "code",
   "execution_count": 588,
   "metadata": {
    "id": "li8flG_251us",
    "scrolled": true
   },
   "outputs": [],
   "source": [
    "### START CODE HERE ###\n",
    "IMDB_data = pd.read_csv(r'IMDB-Movie-Data.csv')\n",
    "actors = []\n",
    "b = []\n",
    "actors = IMDB_data.iloc[:,5]\n",
    "sorted_names = [i.replace(\", \", \",\").split(\",\") for i in actors]\n",
    "actors_list = []\n",
    "for i in sorted_names:\n",
    "    actors_list += i\n",
    "actors_name = list(set(actors_list))\n",
    "for j in range(len(actors_name)):\n",
    "    b.append(actors_name[j])\n",
    "out = '\\n'.join(b)\n",
    "with open('readme.txt', 'w',encoding=\"utf-8\") as f:\n",
    "    f.write(str(out))\n",
    "### END CODE HERE ###"
   ]
  },
  {
   "cell_type": "markdown",
   "metadata": {
    "id": "oXpoTAa-51us"
   },
   "source": [
    "### Question 4"
   ]
  },
  {
   "cell_type": "markdown",
   "metadata": {
    "id": "-l8ephAz51us"
   },
   "source": [
    "## Plot\n",
    ">You must plot the number of movies in each year according to the IMDB-Movie-Data.csv file. X-axis is year and y-axis show the number of movies in each year.\n",
    "> set the x_label, y_label and title for your plot."
   ]
  },
  {
   "cell_type": "code",
   "execution_count": 595,
   "metadata": {
    "id": "pVgfjlk_51us"
   },
   "outputs": [
    {
     "data": {
      "image/png": "[encoded data removed]",
      "text/plain": [
       "<Figure size 432x288 with 1 Axes>"
      ]
     },
     "metadata": {
      "needs_background": "light"
     },
     "output_type": "display_data"
    }
   ],
   "source": [
    "### START CODE HERE ###\n",
    "IMDB_data = pd.read_csv(r'IMDB-Movie-Data.csv')\n",
    "years = IMDB_data.iloc[:,6]\n",
    "years_list = years.values.tolist()\n",
    "movie_in_year = dict(Counter(years_list))\n",
    "year = list(sorted(movie_in_year.keys()))\n",
    "num_of_movies = list(movie_in_year.values())\n",
    "fig = plt.figure()\n",
    "plt.bar(range(len(movie_in_year)), num_of_movies, tick_label=year)\n",
    "fig.suptitle('num of movies in each year', fontsize=15)\n",
    "plt.xlabel('year', fontsize=11)\n",
    "plt.ylabel('num of movies', fontsize=11)\n",
    "plt.show()\n",
    "### END CODE HERE ###"
   ]
  },
  {
   "cell_type": "markdown",
   "metadata": {
    "id": "-xaIS92c51us"
   },
   "source": [
    "## Plot\n",
    ">You must plot the cos(x) curve. plot 20 cycle of the curve. the frequency of first half of curve is 50 Hz and frequency of second lalf is 200 Hz. \n",
    "> set the x_label, y_label and title for your plot."
   ]
  },
  {
   "cell_type": "code",
   "execution_count": 525,
   "metadata": {
    "id": "5VhGTsTw51us"
   },
   "outputs": [
    {
     "data": {
      "image/png": "[encoded data removed]",
      "text/plain": [
       "<Figure size 432x288 with 1 Axes>"
      ]
     },
     "metadata": {
      "needs_background": "light"
     },
     "output_type": "display_data"
    },
    {
     "data": {
      "image/png": "[encoded data removed]",
      "text/plain": [
       "<Figure size 432x288 with 1 Axes>"
      ]
     },
     "metadata": {
      "needs_background": "light"
     },
     "output_type": "display_data"
    }
   ],
   "source": [
    "### START CODE HERE ###\n",
    "x1 = np.arange(0,0.01,0.00001) \n",
    "y1 = np.cos(2*np.pi*50*x1)\n",
    "x2 = np.arange(0.01+1/400,0.01+1/200,0.00001)-1/400\n",
    "y2 = -np.cos(2*np.pi*200*x2)\n",
    "plt1.plot(x1,y1,x2,y2)\n",
    "plt1.show()\n",
    "for i in range(20):\n",
    "    plt.plot(x1,y1,x2,y2)\n",
    "    x1 = x1+0.01+1/400\n",
    "    x2 = x2+0.01+1/400\n",
    "plt.show()\n",
    "### END CODE HERE ###"
   ]
  }
 ],
 "metadata": {
  "colab": {
   "provenance": []
  },
  "interpreter": {
   "hash": "d8283cc4fef7fdfd79fce9ff4c59fb46bb636ce565bf5e011ed8cd98646ea4d5"
  },
  "kernelspec": {
   "display_name": "Python 3 (ipykernel)",
   "language": "python",
   "name": "python3"
  },
  "language_info": {
   "codemirror_mode": {
    "name": "ipython",
    "version": 3
   },
   "file_extension": ".py",
   "mimetype": "text/x-python",
   "name": "python",
   "nbconvert_exporter": "python",
   "pygments_lexer": "ipython3",
   "version": "3.9.7"
  }
 },
 "nbformat": 4,
 "nbformat_minor": 1
}
