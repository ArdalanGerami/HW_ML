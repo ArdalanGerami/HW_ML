{
  "nbformat": 4,
  "nbformat_minor": 0,
  "metadata": {
    "colab": {
      "provenance": [],
      "authorship_tag": "ABX9TyMELac3Hlcb2v5xVW518lVw",
      "include_colab_link": true
    },
    "kernelspec": {
      "name": "python3",
      "display_name": "Python 3"
    },
    "language_info": {
      "name": "python"
    }
  },
  "cells": [
    {
      "cell_type": "markdown",
      "metadata": {
        "id": "view-in-github",
        "colab_type": "text"
      },
      "source": [
        "<a href=\"https://colab.research.google.com/github/Ardalan-gerami81/HW_ML/blob/main/Q5_C.ipynb\" target=\"_parent\"><img src=\"https://colab.research.google.com/assets/colab-badge.svg\" alt=\"Open In Colab\"/></a>"
      ]
    },
    {
      "cell_type": "code",
      "execution_count": 32,
      "metadata": {
        "id": "_302aw4eTWs-"
      },
      "outputs": [],
      "source": [
        "import numpy as np\n",
        "import cvxpy as cvx\n",
        "from multi_risk_portfolio_data import *"
      ]
    },
    {
      "cell_type": "code",
      "source": [
        "w,t = cvx.Variable(n), cvx.Variable()\n",
        "risks = [cvx.quad_form(w, Sigma) for Sigma in(Sigma_1, Sigma_2, Sigma_3, Sigma_4, Sigma_5, Sigma_6)]\n",
        "risk_constraints = [risk <= t for risk in risks]\n",
        "prob = cvx.Problem(cvx.Maximize(w.T@mu - gamma * t),risk_constraints + [cvx.sum(w) == 1])\n",
        "prob.solve()\n",
        "print('nweights:')\n",
        "print(np.array([format(weight) for weight in np.ravel(w.value)]))\n",
        "print('gamma_k values:')\n",
        "print(np.array([format(risk.dual_value) for risk in risk_constraints]))\n",
        "print('risk values:')\n",
        "print(np.array([format(risk.value) for risk in risks]))\n",
        "print('worst case risk:')\n",
        "print(format(t.value))"
      ],
      "metadata": {
        "colab": {
          "base_uri": "https://localhost:8080/"
        },
        "id": "HV5R-0rPVxt3",
        "outputId": "f0951785-a98a-4374-f799-a4659def5734"
      },
      "execution_count": 33,
      "outputs": [
        {
          "output_type": "stream",
          "name": "stdout",
          "text": [
            "nweights:\n",
            "['0.4247382049873743' '0.6642699652212044' '-0.11469037220485757'\n",
            " '1.3805550930331925' '1.4242285197751403' '-1.527064897348089'\n",
            " '-0.6140154499013144' '-0.4987908148392034' '-0.25406875723047384'\n",
            " '0.11483850850702625']\n",
            "gamma_k values:\n",
            "['[0.29231555]' '[3.35675336e-10]' '[3.53686168e-10]' '[0.46580236]'\n",
            " '[0.14230459]' '[0.0995775]']\n",
            "risk values:\n",
            "['0.12188147878073646' '0.0845435093507211' '0.08247154824172492'\n",
            " '0.12188147874793029' '0.12188147884781253' '0.12188147867241997']\n",
            "worst case risk:\n",
            "0.12188147875724109\n"
          ]
        }
      ]
    }
  ]
}