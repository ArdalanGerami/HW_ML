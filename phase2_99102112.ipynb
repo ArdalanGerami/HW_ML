{
  "cells": [
    {
      "cell_type": "markdown",
      "metadata": {
        "id": "view-in-github",
        "colab_type": "text"
      },
      "source": [
        "<a href=\"https://colab.research.google.com/github/Ardalan-gerami81/HW_ML/blob/main/phase2_99102112.ipynb\" target=\"_parent\"><img src=\"https://colab.research.google.com/assets/colab-badge.svg\" alt=\"Open In Colab\"/></a>"
      ]
    },
    {
      "cell_type": "code",
      "execution_count": 12,
      "metadata": {
        "id": "HFm8mKTnAD8Q",
        "colab": {
          "base_uri": "https://localhost:8080/"
        },
        "outputId": "af1f1122-469f-4873-d719-673d31355f51"
      },
      "outputs": [
        {
          "output_type": "stream",
          "name": "stdout",
          "text": [
            "Requirement already satisfied: patchify in /usr/local/lib/python3.10/dist-packages (0.2.3)\n",
            "Requirement already satisfied: numpy<2,>=1 in /usr/local/lib/python3.10/dist-packages (from patchify) (1.22.4)\n"
          ]
        }
      ],
      "source": [
        "!pip install patchify\n",
        "import numpy as np\n",
        "from keras.datasets import mnist\n",
        "from patchify import patchify\n",
        "from sklearn.mixture import GaussianMixture\n",
        "import random\n",
        "import matplotlib.pyplot as plt"
      ]
    },
    {
      "cell_type": "code",
      "execution_count": 13,
      "metadata": {
        "colab": {
          "base_uri": "https://localhost:8080/"
        },
        "id": "B7g1UnQYEtsk",
        "outputId": "3d0253b7-11fc-4379-f10a-54bfad5ea21f"
      },
      "outputs": [
        {
          "output_type": "stream",
          "name": "stdout",
          "text": [
            "(441000, 64)\n"
          ]
        }
      ],
      "source": [
        "### first part\n",
        "# we should patchify each image\n",
        "def patchifyy(images,m):\n",
        "  patch_list = []\n",
        "  for image in images:\n",
        "    h,w = np.shape(image)\n",
        "    # step of patching is equal to 1\n",
        "    for i in range(0, h - m + 1,1):\n",
        "     for j in range(0, w - m + 1,1):\n",
        "      patch = image[i:i+m, j:j+m]\n",
        "      patch_list.append(patch.reshape(-1, 1))\n",
        "  return patch_list\n",
        "def extract(m,dataset_size):\n",
        "  # above all we should load the dataset test and then choose 1000 image randomly\n",
        "  (train_images, _), (_, _) = mnist.load_data()\n",
        "  train_images_subset = train_images[random.choices(np.arange(60000), k = dataset_size)]\n",
        "  patches = patchifyy(train_images_subset, m)\n",
        "  patches_array = np.array(patches).squeeze()\n",
        "   # save patches in an array\n",
        "  return patches_array\n",
        "# Validation\n",
        "o = extract(8,1000)\n",
        "print(o.shape)"
      ]
    },
    {
      "cell_type": "code",
      "execution_count": 14,
      "metadata": {
        "id": "3S_Duo60IWoX"
      },
      "outputs": [],
      "source": [
        "### second part\n",
        "def parameters_gmm(m,k):\n",
        "  # above all we should extract our images in dataset test\n",
        "  patches = extract(m=m,dataset_size = 1000)\n",
        "  # we should fit a Gaussian Mixture Model then find its parameters\n",
        "  gmm = GaussianMixture(n_components=k, max_iter =200 , random_state =0 , init_params ='kmeans')\n",
        "  gmm.fit(patches)\n",
        "  means = np.ndarray.tolist(gmm.means_.squeeze())\n",
        "  covariances = np.ndarray.tolist(gmm.covariances_.squeeze())\n",
        "  mixing_coefficients = np.ndarray.tolist(gmm.weights_.squeeze())\n",
        "  return means,covariances,mixing_coefficients"
      ]
    },
    {
      "cell_type": "code",
      "execution_count": 15,
      "metadata": {
        "id": "CarW9i2VOHyp"
      },
      "outputs": [],
      "source": [
        "#@title Third part\n",
        "###third part\n"
      ]
    },
    {
      "cell_type": "code",
      "execution_count": 16,
      "metadata": {
        "id": "Kr8B92vddP4E"
      },
      "outputs": [],
      "source": [
        "# now we should wirte a function that denoise a noisy image\n",
        "def denoise(noisy_image, m, k ,W ,sigma):\n",
        "  # as we conclude from the project we should update the parameters so above all\n",
        "  #-> we update them and due to project assumpitation that the mean parameter\n",
        "  #-> doesn't change\n",
        "  mean,covariance,mixing_coefficient = parameters_gmm(m,k)\n",
        "  means = np.array(mean,dtype = np.longdouble)\n",
        "  covariances = np.array(covariance,dtype = np.longdouble)\n",
        "  mixing_coefficients = np.array(mixing_coefficient,dtype = np.longdouble)\n",
        "  # before filling the posterior parameters we should create them by np.zeros\n",
        "  posterior_means = np.zeros_like(means, dtype = np.longdouble)\n",
        "  posterior_covariances = np.zeros_like(covariances, dtype = np.longdouble)\n",
        "  posterior_mixing_coefficients = np.zeros_like(mixing_coefficients, dtype = np.longdouble)\n",
        "  # we also need covariance matrix of noisy patches as we know from theory part\n",
        "  #-> of the project  $$$$$$$$$$$$$$$$\n",
        "  noise_cov = np.eye(m**2) * sigma**2\n",
        "  # now updating\n",
        "  for i in range(k):\n",
        "    # mean doesn't change\n",
        "    a = covariances[i]\n",
        "    posterior_mixing_coefficients[i] = mixing_coefficients[i]\n",
        "    posterior_covariances[i] = np.linalg.inv(np.linalg.inv(a.astype(np.float64))+ W.T@np.linalg.inv(noise_cov.astype(np.float64))@W)\n",
        "  # now we should update the mean due to patches\n",
        "  # we will need the denoised patches so first get the patches of a noisy image:\n",
        "  patchess = patchify(noisy_image, (m,m), step =1).reshape(((noisy_image.shape[0]-m +1)**2, m**2))\n",
        "  denoised_patches = np.zeros_like(patchess)\n",
        "  # now updating\n",
        "  for t in range(denoised_patches.shape[0]):\n",
        "    probilities_of_posterior = np.zeros(k, dtype = np.longdouble)\n",
        "    for i in range(k):\n",
        "      posterior_means[i] = posterior_covariances[i]@(W.T@np.linalg.inv(noise_cov.astype(np.float64))@patchess[t] + np.linalg.inv(covariances[i].astype(np.float64))@means[i])\n",
        "    for j in range(k):\n",
        "      probilities_of_posterior[j] = np.log(posterior_mixing_coefficients[j]) - 0.5 * np.log(np.linalg.det(posterior_covariances[j].astype(np.float64)))\n",
        "      - 0.5*(patchess[t] - posterior_means[j]).T@np.linalg.inv(posterior_covariances[j].astype(np.float64))@(patchess[t] - posterior_means[j])\n",
        "      if np.isinf(probilities_of_posterior[j]) :\n",
        "        probilities_of_posterior[j] = -1.0e100\n",
        "    denoised_patches[t] = posterior_means[np.argmax(probilities_of_posterior)]\n",
        "  # finaly afer denoising patches we should unpatch images\n",
        "  coefficients = np.zeros_like(np.zeros((28,28)))\n",
        "  re_patches = denoised_patches.reshape((int(np.sqrt(denoised_patches.shape[0])), int(np.sqrt(denoised_patches.shape[0])), m, m))\n",
        "  image_z = np.zeros((28,28))\n",
        "  for i in range(0, 28 - m + 1,1):\n",
        "    for j in range(0, 28 - m + 1,1):\n",
        "      image_z[i:i +m, j:j+ m] += re_patches[i, j]\n",
        "      coefficients[i:i+m, j:j+m] += np.ones((m , m))\n",
        "  final_image = np.divide(image_z, coefficients)\n",
        "  return final_image"
      ]
    },
    {
      "cell_type": "code",
      "execution_count": 27,
      "metadata": {
        "colab": {
          "base_uri": "https://localhost:8080/",
          "height": 327
        },
        "id": "4uw11zJLCATU",
        "outputId": "947e597d-5c76-4287-8158-60d84f5fbe1e"
      },
      "outputs": [
        {
          "output_type": "stream",
          "name": "stdout",
          "text": [
            "for m = 16 and k = 8 :\n"
          ]
        },
        {
          "output_type": "display_data",
          "data": {
            "text/plain": [
              "<Figure size 1000x1000 with 3 Axes>"
            ],
            "image/png": "[encoded data removed]"
          },
          "metadata": {}
        }
      ],
      "source": [
        "from matplotlib import image as mpimg\n",
        "fig, axs = plt.subplots(1,3, figsize=(10, 10))\n",
        "axs = axs.ravel()\n",
        "for i in range(0,1):\n",
        "  if i==5:\n",
        "    j = i+2\n",
        "  else:\n",
        "    j = i+1\n",
        "  print('for m = 16 and k = 8 :')\n",
        "  image_org = mpimg.imread('30_'+str(int(4*j))+'.png')\n",
        "  axs[0].set_title('orginial image')\n",
        "  axs[0].imshow(image_org,cmap = 'gray')\n",
        "  image_c = mpimg.imread('30_'+str(int(4*j))+'c.png')\n",
        "  axs[1].set_title('corrupted image')\n",
        "  axs[1].imshow(image_c,cmap = 'gray')\n",
        "  W = np.load('W'+str(int(4*j))+'.npy')\n",
        "  f = denoise(image_c, 4*j, 8,W ,150)\n",
        "  axs[2].set_title('denoised image')\n",
        "  axs[2].imshow(f,cmap = 'gray')\n",
        "  plt.show()\n",
        "plt.show()"
      ]
    },
    {
      "cell_type": "code",
      "source": [],
      "metadata": {
        "id": "-kdlT5mTNj16"
      },
      "execution_count": 20,
      "outputs": []
    }
  ],
  "metadata": {
    "colab": {
      "provenance": [],
      "authorship_tag": "ABX9TyOK1jl166D46uzGFF81mbYw",
      "include_colab_link": true
    },
    "kernelspec": {
      "display_name": "Python 3",
      "name": "python3"
    },
    "language_info": {
      "name": "python"
    }
  },
  "nbformat": 4,
  "nbformat_minor": 0
}